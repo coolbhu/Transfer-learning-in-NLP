{
  "cells": [
    {
      "cell_type": "code",
      "execution_count": 1,
      "id": "651029d2",
      "metadata": {
        "execution": {
          "iopub.execute_input": "2022-09-13T17:51:01.418392Z",
          "iopub.status.busy": "2022-09-13T17:51:01.417232Z",
          "iopub.status.idle": "2022-09-13T17:51:01.423626Z",
          "shell.execute_reply": "2022-09-13T17:51:01.422672Z"
        },
        "id": "651029d2",
        "outputId": "ddf2e545-a61e-4b3f-9723-07ac39908371",
        "papermill": {
          "duration": 0.028257,
          "end_time": "2022-09-13T17:51:01.425633",
          "exception": false,
          "start_time": "2022-09-13T17:51:01.397376",
          "status": "completed"
        },
        "tags": [],
        "colab": {
          "base_uri": "https://localhost:8080/"
        }
      },
      "outputs": [
        {
          "output_type": "stream",
          "name": "stdout",
          "text": [
            "Collecting transformers\n",
            "  Downloading transformers-4.33.1-py3-none-any.whl (7.6 MB)\n",
            "\u001b[2K     \u001b[90m━━━━━━━━━━━━━━━━━━━━━━━━━━━━━━━━━━━━━━━━\u001b[0m \u001b[32m7.6/7.6 MB\u001b[0m \u001b[31m28.7 MB/s\u001b[0m eta \u001b[36m0:00:00\u001b[0m\n",
            "\u001b[?25hRequirement already satisfied: filelock in /usr/local/lib/python3.10/dist-packages (from transformers) (3.12.2)\n",
            "Collecting huggingface-hub<1.0,>=0.15.1 (from transformers)\n",
            "  Downloading huggingface_hub-0.16.4-py3-none-any.whl (268 kB)\n",
            "\u001b[2K     \u001b[90m━━━━━━━━━━━━━━━━━━━━━━━━━━━━━━━━━━━━━━\u001b[0m \u001b[32m268.8/268.8 kB\u001b[0m \u001b[31m28.9 MB/s\u001b[0m eta \u001b[36m0:00:00\u001b[0m\n",
            "\u001b[?25hRequirement already satisfied: numpy>=1.17 in /usr/local/lib/python3.10/dist-packages (from transformers) (1.23.5)\n",
            "Requirement already satisfied: packaging>=20.0 in /usr/local/lib/python3.10/dist-packages (from transformers) (23.1)\n",
            "Requirement already satisfied: pyyaml>=5.1 in /usr/local/lib/python3.10/dist-packages (from transformers) (6.0.1)\n",
            "Requirement already satisfied: regex!=2019.12.17 in /usr/local/lib/python3.10/dist-packages (from transformers) (2023.6.3)\n",
            "Requirement already satisfied: requests in /usr/local/lib/python3.10/dist-packages (from transformers) (2.31.0)\n",
            "Collecting tokenizers!=0.11.3,<0.14,>=0.11.1 (from transformers)\n",
            "  Downloading tokenizers-0.13.3-cp310-cp310-manylinux_2_17_x86_64.manylinux2014_x86_64.whl (7.8 MB)\n",
            "\u001b[2K     \u001b[90m━━━━━━━━━━━━━━━━━━━━━━━━━━━━━━━━━━━━━━━━\u001b[0m \u001b[32m7.8/7.8 MB\u001b[0m \u001b[31m90.9 MB/s\u001b[0m eta \u001b[36m0:00:00\u001b[0m\n",
            "\u001b[?25hCollecting safetensors>=0.3.1 (from transformers)\n",
            "  Downloading safetensors-0.3.3-cp310-cp310-manylinux_2_17_x86_64.manylinux2014_x86_64.whl (1.3 MB)\n",
            "\u001b[2K     \u001b[90m━━━━━━━━━━━━━━━━━━━━━━━━━━━━━━━━━━━━━━━━\u001b[0m \u001b[32m1.3/1.3 MB\u001b[0m \u001b[31m74.2 MB/s\u001b[0m eta \u001b[36m0:00:00\u001b[0m\n",
            "\u001b[?25hRequirement already satisfied: tqdm>=4.27 in /usr/local/lib/python3.10/dist-packages (from transformers) (4.66.1)\n",
            "Requirement already satisfied: fsspec in /usr/local/lib/python3.10/dist-packages (from huggingface-hub<1.0,>=0.15.1->transformers) (2023.6.0)\n",
            "Requirement already satisfied: typing-extensions>=3.7.4.3 in /usr/local/lib/python3.10/dist-packages (from huggingface-hub<1.0,>=0.15.1->transformers) (4.5.0)\n",
            "Requirement already satisfied: charset-normalizer<4,>=2 in /usr/local/lib/python3.10/dist-packages (from requests->transformers) (3.2.0)\n",
            "Requirement already satisfied: idna<4,>=2.5 in /usr/local/lib/python3.10/dist-packages (from requests->transformers) (3.4)\n",
            "Requirement already satisfied: urllib3<3,>=1.21.1 in /usr/local/lib/python3.10/dist-packages (from requests->transformers) (2.0.4)\n",
            "Requirement already satisfied: certifi>=2017.4.17 in /usr/local/lib/python3.10/dist-packages (from requests->transformers) (2023.7.22)\n",
            "Installing collected packages: tokenizers, safetensors, huggingface-hub, transformers\n",
            "Successfully installed huggingface-hub-0.16.4 safetensors-0.3.3 tokenizers-0.13.3 transformers-4.33.1\n"
          ]
        }
      ],
      "source": [
        "pip install transformers"
      ]
    },
    {
      "cell_type": "code",
      "execution_count": 2,
      "id": "3e882b7e",
      "metadata": {
        "_cell_guid": "b1076dfc-b9ad-4769-8c92-a6c4dae69d19",
        "_uuid": "8f2839f25d086af736a60e9eeb907d3b93b6e0e5",
        "execution": {
          "iopub.execute_input": "2022-09-13T17:51:01.456446Z",
          "iopub.status.busy": "2022-09-13T17:51:01.456178Z",
          "iopub.status.idle": "2022-09-13T17:51:09.091530Z",
          "shell.execute_reply": "2022-09-13T17:51:09.090509Z"
        },
        "id": "3e882b7e",
        "papermill": {
          "duration": 7.653663,
          "end_time": "2022-09-13T17:51:09.094290",
          "exception": false,
          "start_time": "2022-09-13T17:51:01.440627",
          "status": "completed"
        },
        "tags": []
      },
      "outputs": [],
      "source": [
        "#load all libraries\n",
        "import requests\n",
        "import json\n",
        "import torch\n",
        "import torch.nn as nn\n",
        "import os\n",
        "from tqdm import tqdm\n",
        "from transformers import BertModel, BertTokenizerFast, AdamW\n",
        "# AutoTokenizer, AutoModelForQuestionAnswering, BertTokenizer, BertForQuestionAnswering\n",
        "from torch.utils.data import Dataset, DataLoader\n",
        "from torch.optim.lr_scheduler import ExponentialLR\n",
        "import matplotlib.pyplot as plt"
      ]
    },
    {
      "cell_type": "code",
      "execution_count": 3,
      "id": "b483dee3",
      "metadata": {
        "execution": {
          "iopub.execute_input": "2022-09-13T17:51:09.126234Z",
          "iopub.status.busy": "2022-09-13T17:51:09.125698Z",
          "iopub.status.idle": "2022-09-13T17:51:09.130313Z",
          "shell.execute_reply": "2022-09-13T17:51:09.129184Z"
        },
        "id": "b483dee3",
        "papermill": {
          "duration": 0.022653,
          "end_time": "2022-09-13T17:51:09.132421",
          "exception": false,
          "start_time": "2022-09-13T17:51:09.109768",
          "status": "completed"
        },
        "tags": []
      },
      "outputs": [],
      "source": [
        "MODEL_PATH = \"bert-base-uncased\""
      ]
    },
    {
      "cell_type": "markdown",
      "id": "8ffceeec",
      "metadata": {
        "id": "8ffceeec",
        "papermill": {
          "duration": 0.015493,
          "end_time": "2022-09-13T17:51:09.163023",
          "exception": false,
          "start_time": "2022-09-13T17:51:09.147530",
          "status": "completed"
        },
        "tags": []
      },
      "source": [
        "## Load Dataset"
      ]
    },
    {
      "cell_type": "code",
      "execution_count": 4,
      "id": "d410479e",
      "metadata": {
        "execution": {
          "iopub.execute_input": "2022-09-13T17:51:09.194954Z",
          "iopub.status.busy": "2022-09-13T17:51:09.194083Z",
          "iopub.status.idle": "2022-09-13T17:51:12.963637Z",
          "shell.execute_reply": "2022-09-13T17:51:12.962208Z"
        },
        "id": "d410479e",
        "outputId": "1347ff22-d1c5-46a4-a0e5-5855bc6b39af",
        "papermill": {
          "duration": 3.788395,
          "end_time": "2022-09-13T17:51:12.966274",
          "exception": false,
          "start_time": "2022-09-13T17:51:09.177879",
          "status": "completed"
        },
        "tags": [],
        "colab": {
          "base_uri": "https://localhost:8080/"
        }
      },
      "outputs": [
        {
          "output_type": "stream",
          "name": "stdout",
          "text": [
            "--2023-09-10 13:18:53--  https://rajpurkar.github.io/SQuAD-explorer/dataset/train-v2.0.json\n",
            "Resolving rajpurkar.github.io (rajpurkar.github.io)... 185.199.108.153, 185.199.109.153, 185.199.110.153, ...\n",
            "Connecting to rajpurkar.github.io (rajpurkar.github.io)|185.199.108.153|:443... connected.\n",
            "HTTP request sent, awaiting response... 200 OK\n",
            "Length: 42123633 (40M) [application/json]\n",
            "Saving to: ‘train-v2.0.json’\n",
            "\n",
            "train-v2.0.json     100%[===================>]  40.17M  --.-KB/s    in 0.1s    \n",
            "\n",
            "2023-09-10 13:18:57 (383 MB/s) - ‘train-v2.0.json’ saved [42123633/42123633]\n",
            "\n",
            "--2023-09-10 13:18:57--  https://rajpurkar.github.io/SQuAD-explorer/dataset/dev-v2.0.json\n",
            "Resolving rajpurkar.github.io (rajpurkar.github.io)... 185.199.108.153, 185.199.109.153, 185.199.110.153, ...\n",
            "Connecting to rajpurkar.github.io (rajpurkar.github.io)|185.199.108.153|:443... connected.\n",
            "HTTP request sent, awaiting response... 200 OK\n",
            "Length: 4370528 (4.2M) [application/json]\n",
            "Saving to: ‘dev-v2.0.json’\n",
            "\n",
            "dev-v2.0.json       100%[===================>]   4.17M  --.-KB/s    in 0.03s   \n",
            "\n",
            "2023-09-10 13:18:57 (145 MB/s) - ‘dev-v2.0.json’ saved [4370528/4370528]\n",
            "\n"
          ]
        }
      ],
      "source": [
        "#get SQuAD v2\n",
        "!wget -nc https://rajpurkar.github.io/SQuAD-explorer/dataset/train-v2.0.json\n",
        "!wget -nc https://rajpurkar.github.io/SQuAD-explorer/dataset/dev-v2.0.json"
      ]
    },
    {
      "cell_type": "code",
      "execution_count": 5,
      "id": "b6a3a765",
      "metadata": {
        "execution": {
          "iopub.execute_input": "2022-09-13T17:51:13.004224Z",
          "iopub.status.busy": "2022-09-13T17:51:13.003864Z",
          "iopub.status.idle": "2022-09-13T17:51:13.008665Z",
          "shell.execute_reply": "2022-09-13T17:51:13.007697Z"
        },
        "id": "b6a3a765",
        "papermill": {
          "duration": 0.025373,
          "end_time": "2022-09-13T17:51:13.010701",
          "exception": false,
          "start_time": "2022-09-13T17:51:12.985328",
          "status": "completed"
        },
        "tags": []
      },
      "outputs": [],
      "source": [
        "num_questions = 0\n",
        "num_posible = 0\n",
        "num_imposible = 0"
      ]
    },
    {
      "cell_type": "code",
      "execution_count": 6,
      "id": "0310a19d",
      "metadata": {
        "execution": {
          "iopub.execute_input": "2022-09-13T17:51:13.043326Z",
          "iopub.status.busy": "2022-09-13T17:51:13.042626Z",
          "iopub.status.idle": "2022-09-13T17:51:13.050428Z",
          "shell.execute_reply": "2022-09-13T17:51:13.049414Z"
        },
        "id": "0310a19d",
        "papermill": {
          "duration": 0.02611,
          "end_time": "2022-09-13T17:51:13.052467",
          "exception": false,
          "start_time": "2022-09-13T17:51:13.026357",
          "status": "completed"
        },
        "tags": []
      },
      "outputs": [],
      "source": [
        "#note: below code will only return questions wich have answers (i.e. not the ones flagged as imposible to answer)\n",
        "def get_data(path):\n",
        "    #read each file and retrieve the contexts, qustions and answers\n",
        "  with open(path, 'rb') as f:\n",
        "    raw_data = json.load(f)\n",
        "\n",
        "  contexts = []\n",
        "  questions = []\n",
        "  answers = []\n",
        "  num_q = 0\n",
        "  num_pos = 0\n",
        "  num_imp = 0\n",
        "\n",
        "  for group in raw_data['data']:\n",
        "    for paragraph in group['paragraphs']:\n",
        "      context = paragraph['context']\n",
        "      for qa in paragraph['qas']:\n",
        "        question = qa['question']\n",
        "        num_q  = num_q  +1\n",
        "        if qa['is_impossible'] == True:\n",
        "            num_imp = num_imp +1\n",
        "        else:\n",
        "            num_pos = num_pos +1\n",
        "        for answer in qa['answers']:\n",
        "          contexts.append(context.lower())\n",
        "          questions.append(question.lower())\n",
        "          answers.append(answer)\n",
        "\n",
        "  return num_q, num_pos, num_imp, contexts, questions, answers"
      ]
    },
    {
      "cell_type": "code",
      "execution_count": 7,
      "id": "04c0ed17",
      "metadata": {
        "execution": {
          "iopub.execute_input": "2022-09-13T17:51:13.085582Z",
          "iopub.status.busy": "2022-09-13T17:51:13.084798Z",
          "iopub.status.idle": "2022-09-13T17:51:14.526502Z",
          "shell.execute_reply": "2022-09-13T17:51:14.525505Z"
        },
        "id": "04c0ed17",
        "papermill": {
          "duration": 1.460865,
          "end_time": "2022-09-13T17:51:14.529000",
          "exception": false,
          "start_time": "2022-09-13T17:51:13.068135",
          "status": "completed"
        },
        "tags": []
      },
      "outputs": [],
      "source": [
        "num_q, num_pos, num_imp, train_contexts, train_questions, train_answers = get_data('train-v2.0.json')\n",
        "num_questions  = num_q\n",
        "num_posible = num_pos\n",
        "num_imposible  = num_imp\n"
      ]
    },
    {
      "cell_type": "code",
      "execution_count": 8,
      "id": "7e267a84",
      "metadata": {
        "execution": {
          "iopub.execute_input": "2022-09-13T17:51:14.564265Z",
          "iopub.status.busy": "2022-09-13T17:51:14.563958Z",
          "iopub.status.idle": "2022-09-13T17:51:14.569149Z",
          "shell.execute_reply": "2022-09-13T17:51:14.568193Z"
        },
        "papermill": {
          "duration": 0.024598,
          "end_time": "2022-09-13T17:51:14.571597",
          "exception": false,
          "start_time": "2022-09-13T17:51:14.546999",
          "status": "completed"
        },
        "tags": [],
        "colab": {
          "base_uri": "https://localhost:8080/"
        },
        "id": "7e267a84",
        "outputId": "e00b42c2-bb60-4e94-d83f-3326601c046e"
      },
      "outputs": [
        {
          "output_type": "stream",
          "name": "stdout",
          "text": [
            "['when did beyonce start becoming popular?', 'what areas did beyonce compete in when she was growing up?', \"when did beyonce leave destiny's child and become a solo singer?\", 'in what city and state did beyonce  grow up? ', 'in which decade did beyonce become famous?', 'in what r&b group was she the lead singer?', 'what album made her a worldwide known artist?', \"who managed the destiny's child group?\", 'when did beyoncé rise to fame?', \"what role did beyoncé have in destiny's child?\"]\n",
            "[{'text': 'in the late 1990s', 'answer_start': 269}, {'text': 'singing and dancing', 'answer_start': 207}, {'text': '2003', 'answer_start': 526}, {'text': 'Houston, Texas', 'answer_start': 166}, {'text': 'late 1990s', 'answer_start': 276}, {'text': \"Destiny's Child\", 'answer_start': 320}, {'text': 'Dangerously in Love', 'answer_start': 505}, {'text': 'Mathew Knowles', 'answer_start': 360}, {'text': 'late 1990s', 'answer_start': 276}, {'text': 'lead singer', 'answer_start': 290}]\n"
          ]
        }
      ],
      "source": [
        "print(train_questions[0:10])\n",
        "print(train_answers[0:10])"
      ]
    },
    {
      "cell_type": "code",
      "execution_count": 9,
      "id": "1e551bfd",
      "metadata": {
        "execution": {
          "iopub.execute_input": "2022-09-13T17:51:14.604683Z",
          "iopub.status.busy": "2022-09-13T17:51:14.603297Z",
          "iopub.status.idle": "2022-09-13T17:51:14.889077Z",
          "shell.execute_reply": "2022-09-13T17:51:14.887147Z"
        },
        "papermill": {
          "duration": 0.304185,
          "end_time": "2022-09-13T17:51:14.891234",
          "exception": false,
          "start_time": "2022-09-13T17:51:14.587049",
          "status": "completed"
        },
        "tags": [],
        "colab": {
          "base_uri": "https://localhost:8080/"
        },
        "id": "1e551bfd",
        "outputId": "49cfafc8-94d8-4315-e6bd-425d01c88818"
      },
      "outputs": [
        {
          "output_type": "stream",
          "name": "stdout",
          "text": [
            "Total number of questions: 142192\n",
            "Total number of Answerable questions: 92749\n",
            "Total number of impossible questions: 49443\n"
          ]
        }
      ],
      "source": [
        "num_q, num_pos, num_imp, valid_contexts, valid_questions, valid_answers = get_data('dev-v2.0.json')\n",
        "num_questions  = num_questions + num_q\n",
        "num_posible = num_posible + num_pos\n",
        "num_imposible = num_imposible  + num_imp\n",
        "\n",
        "print(f\"Total number of questions: {num_questions}\")\n",
        "print(f\"Total number of Answerable questions: {num_posible}\")\n",
        "print(f\"Total number of impossible questions: {num_imposible}\")"
      ]
    },
    {
      "cell_type": "code",
      "execution_count": 10,
      "id": "5acab18b",
      "metadata": {
        "execution": {
          "iopub.execute_input": "2022-09-13T17:51:14.925106Z",
          "iopub.status.busy": "2022-09-13T17:51:14.924591Z",
          "iopub.status.idle": "2022-09-13T17:51:14.930058Z",
          "shell.execute_reply": "2022-09-13T17:51:14.929105Z"
        },
        "papermill": {
          "duration": 0.025185,
          "end_time": "2022-09-13T17:51:14.932860",
          "exception": false,
          "start_time": "2022-09-13T17:51:14.907675",
          "status": "completed"
        },
        "tags": [],
        "colab": {
          "base_uri": "https://localhost:8080/"
        },
        "id": "5acab18b",
        "outputId": "e513bd8c-6d5e-477b-f46c-5c6e564cf728"
      },
      "outputs": [
        {
          "output_type": "stream",
          "name": "stdout",
          "text": [
            "['in what country is normandy located?', 'in what country is normandy located?', 'in what country is normandy located?', 'in what country is normandy located?', 'when were the normans in normandy?', 'when were the normans in normandy?', 'when were the normans in normandy?', 'when were the normans in normandy?', 'from which countries did the norse originate?', 'from which countries did the norse originate?']\n",
            "[{'text': 'France', 'answer_start': 159}, {'text': 'France', 'answer_start': 159}, {'text': 'France', 'answer_start': 159}, {'text': 'France', 'answer_start': 159}, {'text': '10th and 11th centuries', 'answer_start': 94}, {'text': 'in the 10th and 11th centuries', 'answer_start': 87}, {'text': '10th and 11th centuries', 'answer_start': 94}, {'text': '10th and 11th centuries', 'answer_start': 94}, {'text': 'Denmark, Iceland and Norway', 'answer_start': 256}, {'text': 'Denmark, Iceland and Norway', 'answer_start': 256}]\n"
          ]
        }
      ],
      "source": [
        "print(valid_questions[0:10])\n",
        "print(valid_answers[0:10])"
      ]
    },
    {
      "cell_type": "code",
      "execution_count": 11,
      "id": "8523ae25",
      "metadata": {
        "execution": {
          "iopub.execute_input": "2022-09-13T17:51:14.967640Z",
          "iopub.status.busy": "2022-09-13T17:51:14.966829Z",
          "iopub.status.idle": "2022-09-13T17:51:15.040378Z",
          "shell.execute_reply": "2022-09-13T17:51:15.039454Z"
        },
        "id": "8523ae25",
        "papermill": {
          "duration": 0.092505,
          "end_time": "2022-09-13T17:51:15.042594",
          "exception": false,
          "start_time": "2022-09-13T17:51:14.950089",
          "status": "completed"
        },
        "tags": []
      },
      "outputs": [],
      "source": [
        "def add_answer_end(answers, contexts):\n",
        "  for answer, context in zip(answers, contexts):\n",
        "    answer['text'] = answer['text'].lower()\n",
        "    answer['answer_end'] = answer['answer_start'] + len(answer['text'])\n",
        "\n",
        "add_answer_end(train_answers, train_contexts)\n",
        "add_answer_end(valid_answers, valid_contexts)"
      ]
    },
    {
      "cell_type": "code",
      "execution_count": 12,
      "id": "96d36e73",
      "metadata": {
        "execution": {
          "iopub.execute_input": "2022-09-13T17:51:15.076855Z",
          "iopub.status.busy": "2022-09-13T17:51:15.076541Z",
          "iopub.status.idle": "2022-09-13T17:51:15.081377Z",
          "shell.execute_reply": "2022-09-13T17:51:15.080435Z"
        },
        "id": "96d36e73",
        "outputId": "055a2f1a-7cce-4079-a018-33c4ceb1976b",
        "papermill": {
          "duration": 0.02488,
          "end_time": "2022-09-13T17:51:15.083883",
          "exception": false,
          "start_time": "2022-09-13T17:51:15.059003",
          "status": "completed"
        },
        "tags": [],
        "colab": {
          "base_uri": "https://localhost:8080/"
        }
      },
      "outputs": [
        {
          "output_type": "stream",
          "name": "stdout",
          "text": [
            "Context: beyoncé giselle knowles-carter (/biːˈjɒnseɪ/ bee-yon-say) (born september 4, 1981) is an american singer, songwriter, record producer and actress. born and raised in houston, texas, she performed in various singing and dancing competitions as a child, and rose to fame in the late 1990s as lead singer of r&b girl-group destiny's child. managed by her father, mathew knowles, the group became one of the world's best-selling girl groups of all time. their hiatus saw the release of beyoncé's debut album, dangerously in love (2003), which established her as a solo artist worldwide, earned five grammy awards and featured the billboard hot 100 number-one singles \"crazy in love\" and \"baby boy\".\n",
            "Question: when did beyonce start becoming popular?\n",
            "Answer: {'text': 'in the late 1990s', 'answer_start': 269, 'answer_end': 286}\n"
          ]
        }
      ],
      "source": [
        "print(f\"Context: {train_contexts[0]}\")\n",
        "print(f\"Question: {train_questions[0]}\")\n",
        "print(f\"Answer: {train_answers[0]}\")"
      ]
    },
    {
      "cell_type": "code",
      "execution_count": 13,
      "id": "2bc32d36",
      "metadata": {
        "execution": {
          "iopub.execute_input": "2022-09-13T17:51:15.117964Z",
          "iopub.status.busy": "2022-09-13T17:51:15.117422Z",
          "iopub.status.idle": "2022-09-13T17:51:15.123498Z",
          "shell.execute_reply": "2022-09-13T17:51:15.122390Z"
        },
        "id": "2bc32d36",
        "outputId": "874bbea5-cb1c-4892-eb83-56f0a9eaef47",
        "papermill": {
          "duration": 0.025219,
          "end_time": "2022-09-13T17:51:15.125986",
          "exception": false,
          "start_time": "2022-09-13T17:51:15.100767",
          "status": "completed"
        },
        "tags": [],
        "colab": {
          "base_uri": "https://localhost:8080/"
        }
      },
      "outputs": [
        {
          "output_type": "stream",
          "name": "stdout",
          "text": [
            "Context: the english name \"normans\" comes from the french words normans/normanz, plural of normant, modern french normand, which is itself borrowed from old low franconian nortmann \"northman\" or directly from old norse norðmaðr, latinized variously as nortmannus, normannus, or nordmannus (recorded in medieval latin, 9th century) to mean \"norseman, viking\".\n",
            "Question: what is the original meaning of the word norman?\n",
            "Answer: {'text': 'norseman, viking', 'answer_start': 331, 'answer_end': 347}\n"
          ]
        }
      ],
      "source": [
        "test_rec = 30\n",
        "print(f\"Context: {valid_contexts[test_rec]}\")\n",
        "print(f\"Question: {valid_questions[test_rec]}\")\n",
        "print(f\"Answer: {valid_answers[test_rec]}\")"
      ]
    },
    {
      "cell_type": "markdown",
      "id": "9c18ec6d",
      "metadata": {
        "id": "9c18ec6d",
        "papermill": {
          "duration": 0.015333,
          "end_time": "2022-09-13T17:51:15.158089",
          "exception": false,
          "start_time": "2022-09-13T17:51:15.142756",
          "status": "completed"
        },
        "tags": []
      },
      "source": [
        "## Tokenize"
      ]
    },
    {
      "cell_type": "markdown",
      "id": "8d7728ee",
      "metadata": {
        "id": "8d7728ee",
        "papermill": {
          "duration": 0.015408,
          "end_time": "2022-09-13T17:51:15.188987",
          "exception": false,
          "start_time": "2022-09-13T17:51:15.173579",
          "status": "completed"
        },
        "tags": []
      },
      "source": [
        "### Find max lengths"
      ]
    },
    {
      "cell_type": "code",
      "execution_count": 14,
      "id": "97afb068",
      "metadata": {
        "execution": {
          "iopub.execute_input": "2022-09-13T17:51:15.222180Z",
          "iopub.status.busy": "2022-09-13T17:51:15.221477Z",
          "iopub.status.idle": "2022-09-13T17:51:16.213669Z",
          "shell.execute_reply": "2022-09-13T17:51:16.212652Z"
        },
        "id": "97afb068",
        "outputId": "2a8a5963-da18-4f6f-bfd8-b55d14cf082e",
        "papermill": {
          "duration": 1.011414,
          "end_time": "2022-09-13T17:51:16.215923",
          "exception": false,
          "start_time": "2022-09-13T17:51:15.204509",
          "status": "completed"
        },
        "tags": [],
        "colab": {
          "base_uri": "https://localhost:8080/",
          "height": 490
        }
      },
      "outputs": [
        {
          "output_type": "stream",
          "name": "stdout",
          "text": [
            "653\n"
          ]
        },
        {
          "output_type": "display_data",
          "data": {
            "text/plain": [
              "<Figure size 640x480 with 1 Axes>"
            ],
            "image/png": "[encoded data removed]"
          },
          "metadata": {}
        }
      ],
      "source": [
        "#Text lengths to contextx\n",
        "token_lens = []\n",
        "\n",
        "for txt in train_contexts:\n",
        "    txt = txt.strip()  # remove leading and trailing whitespaces\n",
        "    token_lens.append(len(txt.split(' ')))\n",
        "\n",
        "\n",
        "print(max(token_lens))\n",
        "\n",
        "plt.hist(token_lens,  bins=20)  # density=False would make counts\n",
        "plt.ylabel('Count')\n",
        "plt.xlabel('Length')\n",
        "plt.title('Distribution of Context Lengths');"
      ]
    },
    {
      "cell_type": "code",
      "execution_count": 15,
      "id": "5d412822",
      "metadata": {
        "execution": {
          "iopub.execute_input": "2022-09-13T17:51:16.249937Z",
          "iopub.status.busy": "2022-09-13T17:51:16.249129Z",
          "iopub.status.idle": "2022-09-13T17:51:17.011901Z",
          "shell.execute_reply": "2022-09-13T17:51:17.010920Z"
        },
        "id": "5d412822",
        "outputId": "0747e6e6-9fcb-4456-b3fe-ac0ea2ca8fcf",
        "papermill": {
          "duration": 0.782627,
          "end_time": "2022-09-13T17:51:17.014867",
          "exception": false,
          "start_time": "2022-09-13T17:51:16.232240",
          "status": "completed"
        },
        "tags": [],
        "colab": {
          "base_uri": "https://localhost:8080/",
          "height": 508
        }
      },
      "outputs": [
        {
          "output_type": "stream",
          "name": "stdout",
          "text": [
            "40\n",
            "86821\n"
          ]
        },
        {
          "output_type": "display_data",
          "data": {
            "text/plain": [
              "<Figure size 640x480 with 1 Axes>"
            ],
            "image/png": "[encoded data removed]"
          },
          "metadata": {}
        }
      ],
      "source": [
        "#Test lengths of Questions\n",
        "token_lens2 = []\n",
        "\n",
        "for txt in train_questions:\n",
        "    txt = txt.strip()  # remove leading and trailing whitespaces\n",
        "    token_lens2.append(len(txt.split(' ')))\n",
        "\n",
        "\n",
        "print(max(token_lens2))\n",
        "print(len(token_lens2))\n",
        "\n",
        "plt.hist(token_lens2,  bins=20)  # density=False would make counts\n",
        "plt.ylabel('Count')\n",
        "plt.xlabel('Length')\n",
        "plt.title('Distribution of Question Lengths');"
      ]
    },
    {
      "cell_type": "code",
      "execution_count": 16,
      "id": "53be559d",
      "metadata": {
        "execution": {
          "iopub.execute_input": "2022-09-13T17:51:17.065587Z",
          "iopub.status.busy": "2022-09-13T17:51:17.065107Z",
          "iopub.status.idle": "2022-09-13T17:51:17.074785Z",
          "shell.execute_reply": "2022-09-13T17:51:17.068754Z"
        },
        "id": "53be559d",
        "papermill": {
          "duration": 0.038076,
          "end_time": "2022-09-13T17:51:17.078582",
          "exception": false,
          "start_time": "2022-09-13T17:51:17.040506",
          "status": "completed"
        },
        "tags": []
      },
      "outputs": [],
      "source": [
        "MAX_LENGTH = 250"
      ]
    },
    {
      "cell_type": "markdown",
      "id": "2875ff68",
      "metadata": {
        "id": "2875ff68",
        "papermill": {
          "duration": 0.024348,
          "end_time": "2022-09-13T17:51:17.127465",
          "exception": false,
          "start_time": "2022-09-13T17:51:17.103117",
          "status": "completed"
        },
        "tags": []
      },
      "source": [
        "### tokenize"
      ]
    },
    {
      "cell_type": "code",
      "execution_count": 17,
      "id": "1a2868cd",
      "metadata": {
        "execution": {
          "iopub.execute_input": "2022-09-13T17:51:17.189886Z",
          "iopub.status.busy": "2022-09-13T17:51:17.189476Z",
          "iopub.status.idle": "2022-09-13T17:52:14.629589Z",
          "shell.execute_reply": "2022-09-13T17:52:14.628546Z"
        },
        "id": "1a2868cd",
        "outputId": "911495c7-6431-4a9f-bf7e-5af5bca9e83b",
        "papermill": {
          "duration": 57.477763,
          "end_time": "2022-09-13T17:52:14.632323",
          "exception": false,
          "start_time": "2022-09-13T17:51:17.154560",
          "status": "completed"
        },
        "tags": [],
        "colab": {
          "base_uri": "https://localhost:8080/",
          "height": 145,
          "referenced_widgets": [
            "3dbaec484f8c43899c5ab28bbaf75ed4",
            "5d041f377ecb48c2a8bda4b5d46ff403",
            "ca3bc836f5be4b7081031a11e7b79629",
            "4296af1c19f3445a95efcd4803150fbd",
            "1b407b7a7bb445d3a0460f74b225edb8",
            "32ea0f0a822c4d9c977537591d39f0ae",
            "df2605c597d846cb821fc0ca7b5e1909",
            "a9966331d21f4a5ebd4c54ec7f497fe1",
            "3db2020c13c34ab5bd306b22904552c6",
            "d4b1c1e5437045159ae7b9e61c316711",
            "64be5af3a4be4655856896b38882282d",
            "18c54b21fe6d4f179cf8e897f836bf59",
            "ba2d3189947040dcb4b3ff45022cc110",
            "735be00097744e49a3e00c042fb7a709",
            "6e511dc716f44250aea42d9b0c8f904a",
            "a0dda445664d49cb8479cdca4428b67a",
            "6c8c9b579a1f4452807583153ad13624",
            "97a93603bfa645fb8698fd6815d04473",
            "84ee2db514d243aebad12f9ff378f71c",
            "f92a47cf2a9242b7a1398ea21999c1fb",
            "48d4e10994384778aab735b8bf4633ef",
            "2407e834944d4910bc272aa030155043",
            "d6e71c651f06484a81e0f39eaa2e6e6d",
            "2bb65b8b8cff4b2f8d674402d6583414",
            "afada5c7b3b645b1869adbf4cf0f1b72",
            "854b0bbfae0945e4abaac39c2cc4aff0",
            "d7f3f519ba9945459e337ec095d603ce",
            "e75d014249374235a84192fd7c2de718",
            "e3b1427d3d7b4096b09808961d999e74",
            "c762a463dcbd48618ec6e69cea9388d5",
            "263b8d8c4134486b9175263ca6c3c43c",
            "9fbf7a15817d45969376ac260a10f4af",
            "3cef7abc0ed84c25adb579cbd24c2cfd",
            "d99a7f52e6c34c12bac36f38ab0c1a6d",
            "7298777abad3405f8f92c8468e98af03",
            "fd48154055b244e6b6444d7183b5bb88",
            "a70f55b08e474f42a362b774e5a7d54e",
            "21fa35136d594ac786906587cdf2dc51",
            "e813715aa29d459686bc1beda9a04425",
            "e8f5158d5ad14603bf56a910f5919e82",
            "57f534df57b349d2b353512b58f6d192",
            "61cf485d9561415da7cfb8a03bb83704",
            "2756694a7471442faa5648f43b73ab76",
            "25e65e91fa424fef86cb2b619ae98e02"
          ]
        }
      },
      "outputs": [
        {
          "output_type": "display_data",
          "data": {
            "text/plain": [
              "Downloading (…)okenizer_config.json:   0%|          | 0.00/28.0 [00:00<?, ?B/s]"
            ],
            "application/vnd.jupyter.widget-view+json": {
              "version_major": 2,
              "version_minor": 0,
              "model_id": "3dbaec484f8c43899c5ab28bbaf75ed4"
            }
          },
          "metadata": {}
        },
        {
          "output_type": "display_data",
          "data": {
            "text/plain": [
              "Downloading (…)solve/main/vocab.txt:   0%|          | 0.00/232k [00:00<?, ?B/s]"
            ],
            "application/vnd.jupyter.widget-view+json": {
              "version_major": 2,
              "version_minor": 0,
              "model_id": "18c54b21fe6d4f179cf8e897f836bf59"
            }
          },
          "metadata": {}
        },
        {
          "output_type": "display_data",
          "data": {
            "text/plain": [
              "Downloading (…)/main/tokenizer.json:   0%|          | 0.00/466k [00:00<?, ?B/s]"
            ],
            "application/vnd.jupyter.widget-view+json": {
              "version_major": 2,
              "version_minor": 0,
              "model_id": "d6e71c651f06484a81e0f39eaa2e6e6d"
            }
          },
          "metadata": {}
        },
        {
          "output_type": "display_data",
          "data": {
            "text/plain": [
              "Downloading (…)lve/main/config.json:   0%|          | 0.00/570 [00:00<?, ?B/s]"
            ],
            "application/vnd.jupyter.widget-view+json": {
              "version_major": 2,
              "version_minor": 0,
              "model_id": "d99a7f52e6c34c12bac36f38ab0c1a6d"
            }
          },
          "metadata": {}
        }
      ],
      "source": [
        "tokenizerFast = BertTokenizerFast.from_pretrained(MODEL_PATH)\n",
        "\n",
        "train_encodings_fast = tokenizerFast(train_questions, train_contexts,  max_length = MAX_LENGTH, truncation=True, padding=True)\n",
        "valid_encodings_fast = tokenizerFast(valid_questions,valid_contexts,  max_length = MAX_LENGTH, truncation=True, padding=True)\n"
      ]
    },
    {
      "cell_type": "code",
      "execution_count": 18,
      "id": "54d8701e",
      "metadata": {
        "execution": {
          "iopub.execute_input": "2022-09-13T17:52:14.669804Z",
          "iopub.status.busy": "2022-09-13T17:52:14.669454Z",
          "iopub.status.idle": "2022-09-13T17:52:14.675580Z",
          "shell.execute_reply": "2022-09-13T17:52:14.674675Z"
        },
        "id": "54d8701e",
        "outputId": "62178524-5d95-4ebb-ea46-053b56c0703d",
        "papermill": {
          "duration": 0.02699,
          "end_time": "2022-09-13T17:52:14.677566",
          "exception": false,
          "start_time": "2022-09-13T17:52:14.650576",
          "status": "completed"
        },
        "tags": [],
        "colab": {
          "base_uri": "https://localhost:8080/"
        }
      },
      "outputs": [
        {
          "output_type": "execute_result",
          "data": {
            "text/plain": [
              "transformers.tokenization_utils_base.BatchEncoding"
            ]
          },
          "metadata": {},
          "execution_count": 18
        }
      ],
      "source": [
        "type(train_encodings_fast)"
      ]
    },
    {
      "cell_type": "code",
      "execution_count": 19,
      "id": "4a67211d",
      "metadata": {
        "execution": {
          "iopub.execute_input": "2022-09-13T17:52:14.713367Z",
          "iopub.status.busy": "2022-09-13T17:52:14.713086Z",
          "iopub.status.idle": "2022-09-13T17:52:14.718521Z",
          "shell.execute_reply": "2022-09-13T17:52:14.717587Z"
        },
        "id": "4a67211d",
        "outputId": "b0e30dd1-5b82-4c9d-b5de-92b2c7416081",
        "papermill": {
          "duration": 0.026024,
          "end_time": "2022-09-13T17:52:14.721131",
          "exception": false,
          "start_time": "2022-09-13T17:52:14.695107",
          "status": "completed"
        },
        "tags": [],
        "colab": {
          "base_uri": "https://localhost:8080/"
        }
      },
      "outputs": [
        {
          "output_type": "stream",
          "name": "stdout",
          "text": [
            "dict_keys(['input_ids', 'token_type_ids', 'attention_mask'])\n",
            "dict_keys(['input_ids', 'token_type_ids', 'attention_mask'])\n",
            "86821\n",
            "250\n"
          ]
        }
      ],
      "source": [
        "\n",
        "print(train_encodings_fast.keys())\n",
        "print(valid_encodings_fast.keys())\n",
        "print(len(train_encodings_fast['input_ids']))\n",
        "print(len(train_encodings_fast['input_ids'][0]))"
      ]
    },
    {
      "cell_type": "code",
      "execution_count": 20,
      "id": "fcb34994",
      "metadata": {
        "execution": {
          "iopub.execute_input": "2022-09-13T17:52:14.757230Z",
          "iopub.status.busy": "2022-09-13T17:52:14.756421Z",
          "iopub.status.idle": "2022-09-13T17:52:14.762511Z",
          "shell.execute_reply": "2022-09-13T17:52:14.761180Z"
        },
        "id": "fcb34994",
        "outputId": "4c8a5f56-4959-45fc-c4d5-e24e36fca3f7",
        "papermill": {
          "duration": 0.026212,
          "end_time": "2022-09-13T17:52:14.764426",
          "exception": false,
          "start_time": "2022-09-13T17:52:14.738214",
          "status": "completed"
        },
        "tags": [],
        "colab": {
          "base_uri": "https://localhost:8080/"
        }
      },
      "outputs": [
        {
          "output_type": "stream",
          "name": "stdout",
          "text": [
            "[101, 2043, 2106, 20773, 2707, 3352, 2759, 1029, 102, 20773, 21025, 19358, 22815, 1011, 5708, 1006, 1013, 12170, 23432, 29715, 3501, 29678, 12325, 29685, 1013, 10506, 1011, 10930, 2078, 1011, 2360, 1007, 1006, 2141, 2244, 1018, 1010, 3261, 1007, 2003, 2019, 2137, 3220, 1010, 6009, 1010, 2501, 3135, 1998, 3883, 1012, 2141, 1998, 2992, 1999, 5395, 1010, 3146, 1010, 2016, 2864, 1999, 2536, 4823, 1998, 5613, 6479, 2004, 1037, 2775, 1010, 1998, 3123, 2000, 4476, 1999, 1996, 2397, 4134, 2004, 2599, 3220, 1997, 1054, 1004, 1038, 2611, 1011, 2177, 10461, 1005, 1055, 2775, 1012, 3266, 2011, 2014, 2269, 1010, 25436, 22815, 1010, 1996, 2177, 2150, 2028, 1997, 1996, 2088, 1005, 1055, 2190, 1011, 4855, 2611, 2967, 1997, 2035, 2051, 1012, 2037, 14221, 2387, 1996, 2713, 1997, 20773, 1005, 1055, 2834, 2201, 1010, 20754, 1999, 2293, 1006, 2494, 1007, 1010, 2029, 2511, 2014, 2004, 1037, 3948, 3063, 4969, 1010, 3687, 2274, 8922, 2982, 1998, 2956, 1996, 4908, 2980, 2531, 2193, 1011, 2028, 3895, 1000, 4689, 1999, 2293, 1000, 1998, 1000, 3336, 2879, 1000, 1012, 102, 0, 0, 0, 0, 0, 0, 0, 0, 0, 0, 0, 0, 0, 0, 0, 0, 0, 0, 0, 0, 0, 0, 0, 0, 0, 0, 0, 0, 0, 0, 0, 0, 0, 0, 0, 0, 0, 0, 0, 0, 0, 0, 0, 0, 0, 0, 0, 0, 0, 0, 0, 0, 0, 0, 0, 0, 0, 0, 0, 0, 0, 0, 0, 0, 0, 0, 0, 0, 0, 0, 0, 0, 0, 0, 0, 0]\n"
          ]
        }
      ],
      "source": [
        "print(train_encodings_fast['input_ids'][0])"
      ]
    },
    {
      "cell_type": "code",
      "execution_count": 21,
      "id": "f98223fd",
      "metadata": {
        "execution": {
          "iopub.execute_input": "2022-09-13T17:52:14.801751Z",
          "iopub.status.busy": "2022-09-13T17:52:14.800003Z",
          "iopub.status.idle": "2022-09-13T17:52:14.806932Z",
          "shell.execute_reply": "2022-09-13T17:52:14.806011Z"
        },
        "id": "f98223fd",
        "outputId": "6bdc96e4-d86b-44cd-aa74-8190016f40b3",
        "papermill": {
          "duration": 0.027413,
          "end_time": "2022-09-13T17:52:14.809038",
          "exception": false,
          "start_time": "2022-09-13T17:52:14.781625",
          "status": "completed"
        },
        "tags": [],
        "colab": {
          "base_uri": "https://localhost:8080/"
        }
      },
      "outputs": [
        {
          "output_type": "execute_result",
          "data": {
            "text/plain": [
              "dict_keys(['text', 'answer_start', 'answer_end'])"
            ]
          },
          "metadata": {},
          "execution_count": 21
        }
      ],
      "source": [
        "type(train_answers[0]['text'])\n",
        "train_answers[0].keys()"
      ]
    },
    {
      "cell_type": "code",
      "execution_count": 22,
      "id": "f745e989",
      "metadata": {
        "execution": {
          "iopub.execute_input": "2022-09-13T17:52:14.845046Z",
          "iopub.status.busy": "2022-09-13T17:52:14.844197Z",
          "iopub.status.idle": "2022-09-13T17:52:14.848540Z",
          "shell.execute_reply": "2022-09-13T17:52:14.847678Z"
        },
        "id": "f745e989",
        "papermill": {
          "duration": 0.024296,
          "end_time": "2022-09-13T17:52:14.850502",
          "exception": false,
          "start_time": "2022-09-13T17:52:14.826206",
          "status": "completed"
        },
        "tags": []
      },
      "outputs": [],
      "source": [
        "#train_answer_encodings_fast = tokenizerFast(train_answers[0]['text'],  max_length = MAX_LENGTH, truncation=True, padding=True)\n"
      ]
    },
    {
      "cell_type": "code",
      "execution_count": 23,
      "id": "a3822e6e",
      "metadata": {
        "execution": {
          "iopub.execute_input": "2022-09-13T17:52:14.886970Z",
          "iopub.status.busy": "2022-09-13T17:52:14.886318Z",
          "iopub.status.idle": "2022-09-13T17:52:14.893310Z",
          "shell.execute_reply": "2022-09-13T17:52:14.892460Z"
        },
        "id": "a3822e6e",
        "papermill": {
          "duration": 0.027238,
          "end_time": "2022-09-13T17:52:14.895262",
          "exception": false,
          "start_time": "2022-09-13T17:52:14.868024",
          "status": "completed"
        },
        "tags": []
      },
      "outputs": [],
      "source": [
        "def ret_Answer_start_and_end_train(idx):\n",
        "    ret_start = 0\n",
        "    ret_end = 0\n",
        "    answer_encoding_fast = tokenizerFast(train_answers[idx]['text'],  max_length = MAX_LENGTH, truncation=True, padding=True)\n",
        "    for a in range( len(train_encodings_fast['input_ids'][idx]) -  len(answer_encoding_fast['input_ids']) ): #len(train_encodings_fast['input_ids'][0])):\n",
        "        match = True\n",
        "        for i in range(1,len(answer_encoding_fast['input_ids']) - 1):\n",
        "\n",
        "            if (answer_encoding_fast['input_ids'][i] != train_encodings_fast['input_ids'][idx][a + i]):\n",
        "                match = False\n",
        "                break\n",
        "        if match:\n",
        "            ret_start = a+1\n",
        "            ret_end = a+i+1\n",
        "            break\n",
        "    return(ret_start, ret_end)\n"
      ]
    },
    {
      "cell_type": "code",
      "execution_count": 24,
      "id": "4d69aa6e",
      "metadata": {
        "execution": {
          "iopub.execute_input": "2022-09-13T17:52:14.932007Z",
          "iopub.status.busy": "2022-09-13T17:52:14.931692Z",
          "iopub.status.idle": "2022-09-13T17:52:16.711234Z",
          "shell.execute_reply": "2022-09-13T17:52:16.708935Z"
        },
        "id": "4d69aa6e",
        "outputId": "df45cea7-cdc5-4c33-e7f6-975eb956fc09",
        "papermill": {
          "duration": 1.80043,
          "end_time": "2022-09-13T17:52:16.713579",
          "exception": false,
          "start_time": "2022-09-13T17:52:14.913149",
          "status": "completed"
        },
        "tags": [],
        "colab": {
          "base_uri": "https://localhost:8080/"
        }
      },
      "outputs": [
        {
          "output_type": "stream",
          "name": "stdout",
          "text": [
            "0 0\n",
            "\n",
            "split with luckett and rober\n",
            "[CLS] what event caused beyonce's depression? [SEP] letoya luckett and roberson became unhappy with mathew's managing of the band and eventually were replaced by farrah franklin and michelle williams. beyonce experienced depression following the split with luckett and roberson after being publicly blamed by the media, critics, and blogs for its cause. her long - standing boyfriend left her at this time. the depression was so severe it lasted for a couple of years, during which she occasionally kept herself in her bedroom for days and refused to eat anything. beyonce stated that she struggled to speak about her depression because destiny's child had just won their first grammy award and she feared no one would take her seriously. beyonce would later speak of her mother as the person who helped her fight it. franklin was dismissed, leaving just beyonce, rowland, and williams. [SEP] [PAD] [PAD] [PAD] [PAD] [PAD] [PAD] [PAD] [PAD] [PAD] [PAD] [PAD] [PAD] [PAD] [PAD] [PAD] [PAD] [PAD] [PAD] [PAD] [PAD] [PAD] [PAD] [PAD] [PAD] [PAD] [PAD] [PAD] [PAD] [PAD] [PAD] [PAD] [PAD] [PAD] [PAD] [PAD] [PAD] [PAD] [PAD] [PAD] [PAD] [PAD] [PAD] [PAD] [PAD] [PAD] [PAD] [PAD] [PAD] [PAD] [PAD] [PAD] [PAD] [PAD] [PAD] [PAD] [PAD] [PAD] [PAD] [PAD] [PAD] [PAD] [PAD] [PAD] [PAD] [PAD] [PAD] [PAD] [PAD] [PAD] [PAD] [PAD] [PAD] [PAD] [PAD] [PAD] [PAD] [PAD] [PAD] [PAD] [PAD]\n"
          ]
        }
      ],
      "source": [
        "test_rec=92\n",
        "\n",
        "z,x = ret_Answer_start_and_end_train(test_rec)\n",
        "print(z, x)\n",
        "\n",
        "predict_answer_tokens = train_encodings_fast.input_ids[test_rec][z : x]\n",
        "print(tokenizerFast.decode(predict_answer_tokens))\n",
        "print(train_answers[test_rec]['text'])\n",
        "print(tokenizerFast.decode(train_encodings_fast['input_ids'][test_rec]))"
      ]
    },
    {
      "cell_type": "code",
      "execution_count": 25,
      "id": "41fe18e3",
      "metadata": {
        "execution": {
          "iopub.execute_input": "2022-09-13T17:52:16.751030Z",
          "iopub.status.busy": "2022-09-13T17:52:16.750385Z",
          "iopub.status.idle": "2022-09-13T17:52:16.756301Z",
          "shell.execute_reply": "2022-09-13T17:52:16.755202Z"
        },
        "id": "41fe18e3",
        "outputId": "f959e274-bbda-4638-fe11-2305ea588e15",
        "papermill": {
          "duration": 0.028507,
          "end_time": "2022-09-13T17:52:16.760262",
          "exception": false,
          "start_time": "2022-09-13T17:52:16.731755",
          "status": "completed"
        },
        "tags": [],
        "colab": {
          "base_uri": "https://localhost:8080/"
        }
      },
      "outputs": [
        {
          "output_type": "stream",
          "name": "stdout",
          "text": [
            "dict_keys(['input_ids', 'token_type_ids', 'attention_mask'])\n",
            "dict_keys(['input_ids', 'token_type_ids', 'attention_mask'])\n",
            "86821\n"
          ]
        }
      ],
      "source": [
        "print(train_encodings_fast.keys())\n",
        "print(valid_encodings_fast.keys())\n",
        "print(len(train_encodings_fast['input_ids']))"
      ]
    },
    {
      "cell_type": "code",
      "execution_count": 26,
      "id": "49af14ce",
      "metadata": {
        "execution": {
          "iopub.execute_input": "2022-09-13T17:52:16.797225Z",
          "iopub.status.busy": "2022-09-13T17:52:16.796725Z",
          "iopub.status.idle": "2022-09-13T17:52:37.931234Z",
          "shell.execute_reply": "2022-09-13T17:52:37.930224Z"
        },
        "id": "49af14ce",
        "outputId": "fe0ab506-87dd-4b83-f8c0-42d1f746f9f7",
        "papermill": {
          "duration": 21.156085,
          "end_time": "2022-09-13T17:52:37.934572",
          "exception": false,
          "start_time": "2022-09-13T17:52:16.778487",
          "status": "completed"
        },
        "tags": [],
        "colab": {
          "base_uri": "https://localhost:8080/"
        }
      },
      "outputs": [
        {
          "output_type": "stream",
          "name": "stdout",
          "text": [
            "1190\n"
          ]
        }
      ],
      "source": [
        "start_positions = []\n",
        "end_positions = []\n",
        "ctr = 0\n",
        "for h in range(len(train_encodings_fast['input_ids'])):\n",
        "    #print(h)\n",
        "    s, e = ret_Answer_start_and_end_train(h)\n",
        "    start_positions.append(s)\n",
        "    end_positions.append(e)\n",
        "    if s==0:\n",
        "        ctr = ctr + 1\n",
        "\n",
        "\n",
        "train_encodings_fast.update({'start_positions': start_positions, 'end_positions': end_positions})\n",
        "print(ctr)"
      ]
    },
    {
      "cell_type": "code",
      "execution_count": 27,
      "id": "dbeb96c0",
      "metadata": {
        "execution": {
          "iopub.execute_input": "2022-09-13T17:52:37.972041Z",
          "iopub.status.busy": "2022-09-13T17:52:37.971730Z",
          "iopub.status.idle": "2022-09-13T17:52:37.977273Z",
          "shell.execute_reply": "2022-09-13T17:52:37.976229Z"
        },
        "id": "dbeb96c0",
        "outputId": "5664fe3e-e802-44c0-9fc9-e347fbcbc18d",
        "papermill": {
          "duration": 0.02805,
          "end_time": "2022-09-13T17:52:37.981228",
          "exception": false,
          "start_time": "2022-09-13T17:52:37.953178",
          "status": "completed"
        },
        "tags": [],
        "colab": {
          "base_uri": "https://localhost:8080/"
        }
      },
      "outputs": [
        {
          "output_type": "stream",
          "name": "stdout",
          "text": [
            "dict_keys(['input_ids', 'token_type_ids', 'attention_mask', 'start_positions', 'end_positions'])\n",
            "dict_keys(['input_ids', 'token_type_ids', 'attention_mask'])\n",
            "86821\n"
          ]
        }
      ],
      "source": [
        "print(train_encodings_fast.keys())\n",
        "print(valid_encodings_fast.keys())\n",
        "print(len(train_encodings_fast['input_ids']))"
      ]
    },
    {
      "cell_type": "code",
      "execution_count": 28,
      "id": "de1f63d3",
      "metadata": {
        "execution": {
          "iopub.execute_input": "2022-09-13T17:52:38.020115Z",
          "iopub.status.busy": "2022-09-13T17:52:38.019314Z",
          "iopub.status.idle": "2022-09-13T17:52:38.027923Z",
          "shell.execute_reply": "2022-09-13T17:52:38.026548Z"
        },
        "id": "de1f63d3",
        "outputId": "84ab3a6f-f356-4d19-dc7f-3172a4a46491",
        "papermill": {
          "duration": 0.029748,
          "end_time": "2022-09-13T17:52:38.030037",
          "exception": false,
          "start_time": "2022-09-13T17:52:38.000289",
          "status": "completed"
        },
        "tags": [],
        "colab": {
          "base_uri": "https://localhost:8080/"
        }
      },
      "outputs": [
        {
          "output_type": "stream",
          "name": "stdout",
          "text": [
            "68\n",
            "71\n",
            "singing and dancing\n",
            "singing and dancing\n",
            "[CLS] what areas did beyonce compete in when she was growing up? [SEP] beyonce giselle knowles - carter ( / biːˈjɒnseɪ / bee - yon - say ) ( born september 4, 1981 ) is an american singer, songwriter, record producer and actress. born and raised in houston, texas, she performed in various singing and dancing competitions as a child, and rose to fame in the late 1990s as lead singer of r & b girl - group destiny's child. managed by her father, mathew knowles, the group became one of the world's best - selling girl groups of all time. their hiatus saw the release of beyonce's debut album, dangerously in love ( 2003 ), which established her as a solo artist worldwide, earned five grammy awards and featured the billboard hot 100 number - one singles \" crazy in love \" and \" baby boy \". [SEP] [PAD] [PAD] [PAD] [PAD] [PAD] [PAD] [PAD] [PAD] [PAD] [PAD] [PAD] [PAD] [PAD] [PAD] [PAD] [PAD] [PAD] [PAD] [PAD] [PAD] [PAD] [PAD] [PAD] [PAD] [PAD] [PAD] [PAD] [PAD] [PAD] [PAD] [PAD] [PAD] [PAD] [PAD] [PAD] [PAD] [PAD] [PAD] [PAD] [PAD] [PAD] [PAD] [PAD] [PAD] [PAD] [PAD] [PAD] [PAD] [PAD] [PAD] [PAD] [PAD] [PAD] [PAD] [PAD] [PAD] [PAD] [PAD] [PAD] [PAD] [PAD] [PAD] [PAD] [PAD] [PAD] [PAD] [PAD] [PAD] [PAD] [PAD] [PAD]\n"
          ]
        }
      ],
      "source": [
        "test_rec = 1\n",
        "print(train_encodings_fast['start_positions'][test_rec])\n",
        "print(train_encodings_fast['end_positions'][test_rec])\n",
        "predict_answer_tokens = train_encodings_fast.input_ids[test_rec][train_encodings_fast['start_positions'][test_rec] : train_encodings_fast['end_positions'][test_rec]]\n",
        "print(tokenizerFast.decode(predict_answer_tokens))\n",
        "print(train_answers[test_rec]['text'])\n",
        "print(tokenizerFast.decode(train_encodings_fast['input_ids'][test_rec]))"
      ]
    },
    {
      "cell_type": "code",
      "execution_count": 29,
      "id": "055b95bd",
      "metadata": {
        "execution": {
          "iopub.execute_input": "2022-09-13T17:52:38.066298Z",
          "iopub.status.busy": "2022-09-13T17:52:38.066030Z",
          "iopub.status.idle": "2022-09-13T17:52:38.072738Z",
          "shell.execute_reply": "2022-09-13T17:52:38.071704Z"
        },
        "id": "055b95bd",
        "papermill": {
          "duration": 0.026951,
          "end_time": "2022-09-13T17:52:38.074706",
          "exception": false,
          "start_time": "2022-09-13T17:52:38.047755",
          "status": "completed"
        },
        "tags": []
      },
      "outputs": [],
      "source": [
        "def ret_Answer_start_and_end_valid(idx):\n",
        "    ret_start = 0\n",
        "    ret_end = 0\n",
        "    answer_encoding_fast = tokenizerFast(valid_answers[idx]['text'],  max_length = MAX_LENGTH, truncation=True, padding=True)\n",
        "    for a in range( len(valid_encodings_fast['input_ids'][idx])  -  len(answer_encoding_fast['input_ids'])   ): #len(train_encodings_fast['input_ids'][0])):\n",
        "        match = True\n",
        "        for i in range(1,len(answer_encoding_fast['input_ids']) - 1):\n",
        "            if (answer_encoding_fast['input_ids'][i] != valid_encodings_fast['input_ids'][idx][a + i]):\n",
        "                match = False\n",
        "                break\n",
        "        if match:\n",
        "            ret_start = a+1\n",
        "            ret_end = a+i+1\n",
        "            break\n",
        "    return(ret_start, ret_end)"
      ]
    },
    {
      "cell_type": "code",
      "execution_count": 30,
      "id": "52fc3dd4",
      "metadata": {
        "execution": {
          "iopub.execute_input": "2022-09-13T17:52:38.111161Z",
          "iopub.status.busy": "2022-09-13T17:52:38.110405Z",
          "iopub.status.idle": "2022-09-13T17:52:43.105974Z",
          "shell.execute_reply": "2022-09-13T17:52:43.104266Z"
        },
        "id": "52fc3dd4",
        "outputId": "a8df2f09-f2e1-4ac4-a0f9-08501a908bce",
        "papermill": {
          "duration": 5.017022,
          "end_time": "2022-09-13T17:52:43.109091",
          "exception": false,
          "start_time": "2022-09-13T17:52:38.092069",
          "status": "completed"
        },
        "tags": [],
        "colab": {
          "base_uri": "https://localhost:8080/"
        }
      },
      "outputs": [
        {
          "output_type": "stream",
          "name": "stdout",
          "text": [
            "393\n"
          ]
        }
      ],
      "source": [
        "start_positions = []\n",
        "end_positions = []\n",
        "ctr = 0\n",
        "for h in range(len(valid_encodings_fast['input_ids']) ):\n",
        "    #print(h)\n",
        "    s, e = ret_Answer_start_and_end_valid(h)\n",
        "    start_positions.append(s)\n",
        "    end_positions.append(e)\n",
        "    if s==0:\n",
        "        ctr = ctr + 1\n",
        "\n",
        "\n",
        "valid_encodings_fast.update({'start_positions': start_positions, 'end_positions': end_positions})\n",
        "print(ctr)"
      ]
    },
    {
      "cell_type": "code",
      "execution_count": 31,
      "id": "63500a13",
      "metadata": {
        "execution": {
          "iopub.execute_input": "2022-09-13T17:52:43.148681Z",
          "iopub.status.busy": "2022-09-13T17:52:43.148385Z",
          "iopub.status.idle": "2022-09-13T17:52:43.157142Z",
          "shell.execute_reply": "2022-09-13T17:52:43.155560Z"
        },
        "id": "63500a13",
        "outputId": "66148093-7db0-40b9-cdd5-22e47f8fabfa",
        "papermill": {
          "duration": 0.032138,
          "end_time": "2022-09-13T17:52:43.160595",
          "exception": false,
          "start_time": "2022-09-13T17:52:43.128457",
          "status": "completed"
        },
        "tags": [],
        "colab": {
          "base_uri": "https://localhost:8080/"
        }
      },
      "outputs": [
        {
          "output_type": "stream",
          "name": "stdout",
          "text": [
            "france\n",
            "france\n",
            "[CLS] in what country is normandy located? [SEP] the normans ( norman : nourmands ; french : normands ; latin : normanni ) were the people who in the 10th and 11th centuries gave their name to normandy, a region in france. they were descended from norse ( \" norman \" comes from \" norseman \" ) raiders and pirates from denmark, iceland and norway who, under their leader rollo, agreed to swear fealty to king charles iii of west francia. through generations of assimilation and mixing with the native frankish and roman - gaulish populations, their descendants would gradually merge with the carolingian - based cultures of west francia. the distinct cultural and ethnic identity of the normans emerged initially in the first half of the 10th century, and it continued to evolve over the succeeding centuries. [SEP] [PAD] [PAD] [PAD] [PAD] [PAD] [PAD] [PAD] [PAD] [PAD] [PAD] [PAD] [PAD] [PAD] [PAD] [PAD] [PAD] [PAD] [PAD] [PAD] [PAD] [PAD] [PAD] [PAD] [PAD] [PAD] [PAD] [PAD] [PAD] [PAD] [PAD] [PAD] [PAD] [PAD] [PAD] [PAD] [PAD] [PAD] [PAD] [PAD] [PAD] [PAD] [PAD] [PAD] [PAD] [PAD] [PAD] [PAD] [PAD] [PAD] [PAD] [PAD] [PAD] [PAD] [PAD] [PAD] [PAD] [PAD] [PAD] [PAD] [PAD] [PAD] [PAD] [PAD] [PAD] [PAD] [PAD] [PAD] [PAD] [PAD] [PAD] [PAD] [PAD] [PAD] [PAD] [PAD] [PAD] [PAD] [PAD] [PAD] [PAD] [PAD] [PAD] [PAD] [PAD]\n"
          ]
        }
      ],
      "source": [
        "test_rec=2\n",
        "\n",
        "z,x = ret_Answer_start_and_end_valid(test_rec)\n",
        "\n",
        "predict_answer_tokens = valid_encodings_fast.input_ids[test_rec][z : x]\n",
        "print(tokenizerFast.decode(predict_answer_tokens))\n",
        "print(valid_answers[test_rec]['text'])\n",
        "print(tokenizerFast.decode(valid_encodings_fast['input_ids'][test_rec]))"
      ]
    },
    {
      "cell_type": "code",
      "execution_count": 32,
      "id": "ba282814",
      "metadata": {
        "execution": {
          "iopub.execute_input": "2022-09-13T17:52:43.197815Z",
          "iopub.status.busy": "2022-09-13T17:52:43.196770Z",
          "iopub.status.idle": "2022-09-13T17:52:43.204025Z",
          "shell.execute_reply": "2022-09-13T17:52:43.202984Z"
        },
        "id": "ba282814",
        "outputId": "275f826a-8f32-46a5-eb35-3d657d9fba85",
        "papermill": {
          "duration": 0.028306,
          "end_time": "2022-09-13T17:52:43.206662",
          "exception": false,
          "start_time": "2022-09-13T17:52:43.178356",
          "status": "completed"
        },
        "tags": [],
        "colab": {
          "base_uri": "https://localhost:8080/"
        }
      },
      "outputs": [
        {
          "output_type": "stream",
          "name": "stdout",
          "text": [
            "dict_keys(['input_ids', 'token_type_ids', 'attention_mask', 'start_positions', 'end_positions'])\n",
            "dict_keys(['input_ids', 'token_type_ids', 'attention_mask', 'start_positions', 'end_positions'])\n",
            "86821\n",
            "86821\n",
            "86821\n",
            "20302\n",
            "20302\n",
            "20302\n"
          ]
        }
      ],
      "source": [
        "print(train_encodings_fast.keys())\n",
        "print(valid_encodings_fast.keys())\n",
        "print(len(train_encodings_fast['input_ids']))\n",
        "print(len(train_encodings_fast['start_positions']))\n",
        "print(len(train_encodings_fast['end_positions']))\n",
        "print(len(valid_encodings_fast['input_ids']))\n",
        "print(len(valid_encodings_fast['start_positions']))\n",
        "print(len(valid_encodings_fast['end_positions']))"
      ]
    },
    {
      "cell_type": "code",
      "execution_count": 33,
      "id": "22826cc2",
      "metadata": {
        "execution": {
          "iopub.execute_input": "2022-09-13T17:52:43.244119Z",
          "iopub.status.busy": "2022-09-13T17:52:43.243564Z",
          "iopub.status.idle": "2022-09-13T17:52:43.248086Z",
          "shell.execute_reply": "2022-09-13T17:52:43.247228Z"
        },
        "id": "22826cc2",
        "papermill": {
          "duration": 0.024757,
          "end_time": "2022-09-13T17:52:43.249892",
          "exception": false,
          "start_time": "2022-09-13T17:52:43.225135",
          "status": "completed"
        },
        "tags": []
      },
      "outputs": [],
      "source": [
        "#tokenizerFast.decode(train_encodings_fast['input_ids'][0])"
      ]
    },
    {
      "cell_type": "code",
      "execution_count": 34,
      "id": "391395d2",
      "metadata": {
        "execution": {
          "iopub.execute_input": "2022-09-13T17:52:43.287084Z",
          "iopub.status.busy": "2022-09-13T17:52:43.286314Z",
          "iopub.status.idle": "2022-09-13T17:52:43.293808Z",
          "shell.execute_reply": "2022-09-13T17:52:43.292830Z"
        },
        "id": "391395d2",
        "outputId": "75bc2c98-1247-48cf-c15d-770533351fb1",
        "papermill": {
          "duration": 0.027906,
          "end_time": "2022-09-13T17:52:43.295758",
          "exception": false,
          "start_time": "2022-09-13T17:52:43.267852",
          "status": "completed"
        },
        "tags": [],
        "colab": {
          "base_uri": "https://localhost:8080/",
          "height": 125
        }
      },
      "outputs": [
        {
          "output_type": "execute_result",
          "data": {
            "text/plain": [
              "'[CLS] when did beyonce start becoming popular? [SEP] beyonce giselle knowles - carter ( / biːˈjɒnseɪ / bee - yon - say ) ( born september 4, 1981 ) is an american singer, songwriter, record producer and actress. born and raised in houston, texas, she performed in various singing and dancing competitions as a child, and rose to fame in the late 1990s as lead singer of r & b girl - group destiny\\'s child. managed by her father, mathew knowles, the group became one of the world\\'s best - selling girl groups of all time. their hiatus saw the release of beyonce\\'s debut album, dangerously in love ( 2003 ), which established her as a solo artist worldwide, earned five grammy awards and featured the billboard hot 100 number - one singles \" crazy in love \" and \" baby boy \". [SEP] [PAD] [PAD] [PAD] [PAD] [PAD] [PAD] [PAD] [PAD] [PAD] [PAD] [PAD] [PAD] [PAD] [PAD] [PAD] [PAD] [PAD] [PAD] [PAD] [PAD] [PAD] [PAD] [PAD] [PAD] [PAD] [PAD] [PAD] [PAD] [PAD] [PAD] [PAD] [PAD] [PAD] [PAD] [PAD] [PAD] [PAD] [PAD] [PAD] [PAD] [PAD] [PAD] [PAD] [PAD] [PAD] [PAD] [PAD] [PAD] [PAD] [PAD] [PAD] [PAD] [PAD] [PAD] [PAD] [PAD] [PAD] [PAD] [PAD] [PAD] [PAD] [PAD] [PAD] [PAD] [PAD] [PAD] [PAD] [PAD] [PAD] [PAD] [PAD] [PAD] [PAD] [PAD] [PAD] [PAD]'"
            ],
            "application/vnd.google.colaboratory.intrinsic+json": {
              "type": "string"
            }
          },
          "metadata": {},
          "execution_count": 34
        }
      ],
      "source": [
        "tokenizerFast.decode(train_encodings_fast['input_ids'][0])"
      ]
    },
    {
      "cell_type": "code",
      "execution_count": 35,
      "id": "4224a1b0",
      "metadata": {
        "execution": {
          "iopub.execute_input": "2022-09-13T17:52:43.333031Z",
          "iopub.status.busy": "2022-09-13T17:52:43.332259Z",
          "iopub.status.idle": "2022-09-13T17:52:43.337883Z",
          "shell.execute_reply": "2022-09-13T17:52:43.336800Z"
        },
        "id": "4224a1b0",
        "outputId": "cd62483b-230e-48a6-9509-7df54de1403e",
        "papermill": {
          "duration": 0.026504,
          "end_time": "2022-09-13T17:52:43.340181",
          "exception": false,
          "start_time": "2022-09-13T17:52:43.313677",
          "status": "completed"
        },
        "tags": [],
        "colab": {
          "base_uri": "https://localhost:8080/"
        }
      },
      "outputs": [
        {
          "output_type": "stream",
          "name": "stdout",
          "text": [
            "in the late 1990s\n"
          ]
        }
      ],
      "source": [
        "test_row= 0\n",
        "print(train_contexts[test_row][train_answers[test_row]['answer_start']:train_answers[test_row]['answer_end']])"
      ]
    },
    {
      "cell_type": "code",
      "execution_count": 36,
      "id": "2b8bde7e",
      "metadata": {
        "execution": {
          "iopub.execute_input": "2022-09-13T17:52:43.377604Z",
          "iopub.status.busy": "2022-09-13T17:52:43.376698Z",
          "iopub.status.idle": "2022-09-13T17:52:43.383675Z",
          "shell.execute_reply": "2022-09-13T17:52:43.382671Z"
        },
        "id": "2b8bde7e",
        "outputId": "7c521327-fbf0-47c4-ca61-a447cd23d6ab",
        "papermill": {
          "duration": 0.027471,
          "end_time": "2022-09-13T17:52:43.385759",
          "exception": false,
          "start_time": "2022-09-13T17:52:43.358288",
          "status": "completed"
        },
        "tags": [],
        "colab": {
          "base_uri": "https://localhost:8080/",
          "height": 35
        }
      },
      "outputs": [
        {
          "output_type": "execute_result",
          "data": {
            "text/plain": [
              "'in the late 1990s'"
            ],
            "application/vnd.google.colaboratory.intrinsic+json": {
              "type": "string"
            }
          },
          "metadata": {},
          "execution_count": 36
        }
      ],
      "source": [
        "\n",
        "answer_start_index = 75\n",
        "answer_end_index = 79\n",
        "\n",
        "predict_answer_tokens = train_encodings_fast.input_ids[0][answer_start_index : answer_end_index]\n",
        "tokenizerFast.decode(predict_answer_tokens)"
      ]
    },
    {
      "cell_type": "markdown",
      "id": "7ed94ad6",
      "metadata": {
        "id": "7ed94ad6",
        "papermill": {
          "duration": 0.017468,
          "end_time": "2022-09-13T17:52:43.420986",
          "exception": false,
          "start_time": "2022-09-13T17:52:43.403518",
          "status": "completed"
        },
        "tags": []
      },
      "source": [
        "## OPTIONAL: try a pretrained model. (uncomment to test out)"
      ]
    },
    {
      "cell_type": "code",
      "execution_count": 37,
      "id": "653392be",
      "metadata": {
        "execution": {
          "iopub.execute_input": "2022-09-13T17:52:43.457298Z",
          "iopub.status.busy": "2022-09-13T17:52:43.457043Z",
          "iopub.status.idle": "2022-09-13T17:52:43.461025Z",
          "shell.execute_reply": "2022-09-13T17:52:43.460013Z"
        },
        "id": "653392be",
        "papermill": {
          "duration": 0.024709,
          "end_time": "2022-09-13T17:52:43.463350",
          "exception": false,
          "start_time": "2022-09-13T17:52:43.438641",
          "status": "completed"
        },
        "tags": []
      },
      "outputs": [],
      "source": [
        "#tokenizer2 = BertTokenizer.from_pretrained(\"deepset/bert-base-cased-squad2\")\n",
        "#model2 = BertForQuestionAnswering.from_pretrained(\"deepset/bert-base-cased-squad2\")"
      ]
    },
    {
      "cell_type": "code",
      "execution_count": 38,
      "id": "8aaf4564",
      "metadata": {
        "execution": {
          "iopub.execute_input": "2022-09-13T17:52:43.499938Z",
          "iopub.status.busy": "2022-09-13T17:52:43.499643Z",
          "iopub.status.idle": "2022-09-13T17:52:43.504244Z",
          "shell.execute_reply": "2022-09-13T17:52:43.502750Z"
        },
        "id": "8aaf4564",
        "papermill": {
          "duration": 0.025259,
          "end_time": "2022-09-13T17:52:43.506291",
          "exception": false,
          "start_time": "2022-09-13T17:52:43.481032",
          "status": "completed"
        },
        "tags": []
      },
      "outputs": [],
      "source": [
        "#question= train_questions[0]\n",
        "#text = train_contexts[0]\n",
        "\n",
        "#print(question)\n",
        "#print(text)\n"
      ]
    },
    {
      "cell_type": "code",
      "execution_count": 39,
      "id": "def0e8f5",
      "metadata": {
        "execution": {
          "iopub.execute_input": "2022-09-13T17:52:43.542998Z",
          "iopub.status.busy": "2022-09-13T17:52:43.542689Z",
          "iopub.status.idle": "2022-09-13T17:52:43.546579Z",
          "shell.execute_reply": "2022-09-13T17:52:43.545564Z"
        },
        "id": "def0e8f5",
        "papermill": {
          "duration": 0.02452,
          "end_time": "2022-09-13T17:52:43.548889",
          "exception": false,
          "start_time": "2022-09-13T17:52:43.524369",
          "status": "completed"
        },
        "tags": []
      },
      "outputs": [],
      "source": [
        "#inputs = tokenizer2(question, text, return_tensors=\"pt\")\n",
        "#with torch.no_grad():\n",
        "#    outputs = model2(**inputs)"
      ]
    },
    {
      "cell_type": "code",
      "execution_count": 40,
      "id": "ae31ef47",
      "metadata": {
        "execution": {
          "iopub.execute_input": "2022-09-13T17:52:43.586077Z",
          "iopub.status.busy": "2022-09-13T17:52:43.585820Z",
          "iopub.status.idle": "2022-09-13T17:52:43.589670Z",
          "shell.execute_reply": "2022-09-13T17:52:43.588707Z"
        },
        "id": "ae31ef47",
        "papermill": {
          "duration": 0.024894,
          "end_time": "2022-09-13T17:52:43.591658",
          "exception": false,
          "start_time": "2022-09-13T17:52:43.566764",
          "status": "completed"
        },
        "tags": []
      },
      "outputs": [],
      "source": [
        "#answer_start_index = outputs.start_logits.argmax()\n",
        "#answer_end_index = outputs.end_logits.argmax()\n",
        "#print(answer_start_index)\n",
        "#print(answer_end_index)\n",
        "\n"
      ]
    },
    {
      "cell_type": "code",
      "execution_count": 41,
      "id": "d0999f35",
      "metadata": {
        "execution": {
          "iopub.execute_input": "2022-09-13T17:52:43.629116Z",
          "iopub.status.busy": "2022-09-13T17:52:43.628358Z",
          "iopub.status.idle": "2022-09-13T17:52:43.632498Z",
          "shell.execute_reply": "2022-09-13T17:52:43.631659Z"
        },
        "id": "d0999f35",
        "papermill": {
          "duration": 0.025134,
          "end_time": "2022-09-13T17:52:43.634301",
          "exception": false,
          "start_time": "2022-09-13T17:52:43.609167",
          "status": "completed"
        },
        "tags": []
      },
      "outputs": [],
      "source": [
        "#predict_answer_tokens = inputs.input_ids[0, answer_start_index : answer_end_index + 1]\n",
        "#tokenizer2.decode(predict_answer_tokens)"
      ]
    },
    {
      "cell_type": "markdown",
      "id": "7ad2d1a7",
      "metadata": {
        "id": "7ad2d1a7",
        "papermill": {
          "duration": 0.017466,
          "end_time": "2022-09-13T17:52:43.670100",
          "exception": false,
          "start_time": "2022-09-13T17:52:43.652634",
          "status": "completed"
        },
        "tags": []
      },
      "source": [
        "## Create Dataset and Dataloaders"
      ]
    },
    {
      "cell_type": "code",
      "execution_count": 42,
      "id": "9055a511",
      "metadata": {
        "execution": {
          "iopub.execute_input": "2022-09-13T17:52:43.708019Z",
          "iopub.status.busy": "2022-09-13T17:52:43.707213Z",
          "iopub.status.idle": "2022-09-13T17:52:43.715420Z",
          "shell.execute_reply": "2022-09-13T17:52:43.714595Z"
        },
        "id": "9055a511",
        "papermill": {
          "duration": 0.029545,
          "end_time": "2022-09-13T17:52:43.717406",
          "exception": false,
          "start_time": "2022-09-13T17:52:43.687861",
          "status": "completed"
        },
        "tags": []
      },
      "outputs": [],
      "source": [
        "class InputDataset(Dataset):\n",
        "    def __init__(self, encodings):\n",
        "        self.encodings = encodings\n",
        "    def __getitem__(self, i):\n",
        "        return {\n",
        "            'input_ids': torch.tensor(self.encodings['input_ids'][i]),\n",
        "            'token_type_ids': torch.tensor(self.encodings['token_type_ids'][i]),\n",
        "            'attention_mask': torch.tensor(self.encodings['attention_mask'][i]),\n",
        "            'start_positions': torch.tensor(self.encodings['start_positions'][i]),\n",
        "            'end_positions': torch.tensor(self.encodings['end_positions'][i])\n",
        "        }\n",
        "    def __len__(self):\n",
        "        return len(self.encodings['input_ids'])"
      ]
    },
    {
      "cell_type": "code",
      "execution_count": 43,
      "id": "f2216bf8",
      "metadata": {
        "execution": {
          "iopub.execute_input": "2022-09-13T17:52:43.755255Z",
          "iopub.status.busy": "2022-09-13T17:52:43.753616Z",
          "iopub.status.idle": "2022-09-13T17:52:43.758542Z",
          "shell.execute_reply": "2022-09-13T17:52:43.757659Z"
        },
        "id": "f2216bf8",
        "papermill": {
          "duration": 0.025558,
          "end_time": "2022-09-13T17:52:43.760555",
          "exception": false,
          "start_time": "2022-09-13T17:52:43.734997",
          "status": "completed"
        },
        "tags": []
      },
      "outputs": [],
      "source": [
        "train_dataset = InputDataset(train_encodings_fast)\n",
        "valid_dataset = InputDataset(valid_encodings_fast)"
      ]
    },
    {
      "cell_type": "code",
      "execution_count": 44,
      "id": "4ed206be",
      "metadata": {
        "execution": {
          "iopub.execute_input": "2022-09-13T17:52:43.798507Z",
          "iopub.status.busy": "2022-09-13T17:52:43.797755Z",
          "iopub.status.idle": "2022-09-13T17:52:43.803945Z",
          "shell.execute_reply": "2022-09-13T17:52:43.802916Z"
        },
        "id": "4ed206be",
        "outputId": "163addb7-e1dd-4571-d263-31ee6ed13f82",
        "papermill": {
          "duration": 0.027381,
          "end_time": "2022-09-13T17:52:43.805954",
          "exception": false,
          "start_time": "2022-09-13T17:52:43.778573",
          "status": "completed"
        },
        "tags": [],
        "colab": {
          "base_uri": "https://localhost:8080/"
        }
      },
      "outputs": [
        {
          "output_type": "stream",
          "name": "stdout",
          "text": [
            "86821\n",
            "dict_keys(['input_ids', 'token_type_ids', 'attention_mask', 'start_positions', 'end_positions'])\n"
          ]
        }
      ],
      "source": [
        "print(len(train_dataset))\n",
        "print(train_dataset[0].keys())"
      ]
    },
    {
      "cell_type": "code",
      "execution_count": 45,
      "id": "eff891ab",
      "metadata": {
        "execution": {
          "iopub.execute_input": "2022-09-13T17:52:43.845111Z",
          "iopub.status.busy": "2022-09-13T17:52:43.844232Z",
          "iopub.status.idle": "2022-09-13T17:52:43.849581Z",
          "shell.execute_reply": "2022-09-13T17:52:43.848637Z"
        },
        "id": "eff891ab",
        "papermill": {
          "duration": 0.027392,
          "end_time": "2022-09-13T17:52:43.851587",
          "exception": false,
          "start_time": "2022-09-13T17:52:43.824195",
          "status": "completed"
        },
        "tags": []
      },
      "outputs": [],
      "source": [
        "train_data_loader = DataLoader(train_dataset, batch_size=16, shuffle=True)\n",
        "valid_data_loader = DataLoader(valid_dataset, batch_size=32)"
      ]
    },
    {
      "cell_type": "code",
      "execution_count": 46,
      "id": "8a9ea476",
      "metadata": {
        "execution": {
          "iopub.execute_input": "2022-09-13T17:52:43.890005Z",
          "iopub.status.busy": "2022-09-13T17:52:43.889209Z",
          "iopub.status.idle": "2022-09-13T17:52:43.893734Z",
          "shell.execute_reply": "2022-09-13T17:52:43.892817Z"
        },
        "id": "8a9ea476",
        "papermill": {
          "duration": 0.025608,
          "end_time": "2022-09-13T17:52:43.895761",
          "exception": false,
          "start_time": "2022-09-13T17:52:43.870153",
          "status": "completed"
        },
        "tags": []
      },
      "outputs": [],
      "source": [
        "\n",
        "#print(data['targets'].shape)"
      ]
    },
    {
      "cell_type": "markdown",
      "id": "fc6005ff",
      "metadata": {
        "id": "fc6005ff",
        "papermill": {
          "duration": 0.018386,
          "end_time": "2022-09-13T17:52:43.932892",
          "exception": false,
          "start_time": "2022-09-13T17:52:43.914506",
          "status": "completed"
        },
        "tags": []
      },
      "source": [
        "## Create Model"
      ]
    },
    {
      "cell_type": "code",
      "execution_count": 47,
      "id": "8d7cabde",
      "metadata": {
        "execution": {
          "iopub.execute_input": "2022-09-13T17:52:43.970269Z",
          "iopub.status.busy": "2022-09-13T17:52:43.970000Z",
          "iopub.status.idle": "2022-09-13T17:52:43.974113Z",
          "shell.execute_reply": "2022-09-13T17:52:43.973131Z"
        },
        "id": "8d7cabde",
        "papermill": {
          "duration": 0.025366,
          "end_time": "2022-09-13T17:52:43.976047",
          "exception": false,
          "start_time": "2022-09-13T17:52:43.950681",
          "status": "completed"
        },
        "tags": []
      },
      "outputs": [],
      "source": [
        "#model = BertForQuestionAnswering.from_pretrained(MODEL_PATH)"
      ]
    },
    {
      "cell_type": "code",
      "execution_count": 48,
      "id": "3e5165db",
      "metadata": {
        "execution": {
          "iopub.execute_input": "2022-09-13T17:52:44.013921Z",
          "iopub.status.busy": "2022-09-13T17:52:44.013641Z",
          "iopub.status.idle": "2022-09-13T17:53:05.580969Z",
          "shell.execute_reply": "2022-09-13T17:53:05.579130Z"
        },
        "id": "3e5165db",
        "outputId": "c0a3d992-11f0-4ea4-957d-aca90f759636",
        "papermill": {
          "duration": 21.589239,
          "end_time": "2022-09-13T17:53:05.583468",
          "exception": false,
          "start_time": "2022-09-13T17:52:43.994229",
          "status": "completed"
        },
        "tags": [],
        "colab": {
          "base_uri": "https://localhost:8080/",
          "height": 49,
          "referenced_widgets": [
            "014252da346e4e49b1ccd0bda9e3148c",
            "ddd96b10c7074b16bbf47dd43d317a50",
            "4809e4e67f2e43bd9e494d495ea0d7b8",
            "10610207f82046c38574815403fca3be",
            "b8a056248b2b4623bcb8d6fea189369c",
            "9e4025605d6547cba1f94669a3526e0b",
            "c668909ab7024c4fb774197a80009057",
            "28935c59fb5e4f2783eb49dd766c922a",
            "9097f2d9c95e4db19d3bbd43ca555086",
            "555d4fb20a2e417a925d0562b33fd04e",
            "2157c1efa82a4e60a2dbc2d8096c86c4"
          ]
        }
      },
      "outputs": [
        {
          "output_type": "display_data",
          "data": {
            "text/plain": [
              "Downloading model.safetensors:   0%|          | 0.00/440M [00:00<?, ?B/s]"
            ],
            "application/vnd.jupyter.widget-view+json": {
              "version_major": 2,
              "version_minor": 0,
              "model_id": "014252da346e4e49b1ccd0bda9e3148c"
            }
          },
          "metadata": {}
        }
      ],
      "source": [
        "bert_model = BertModel.from_pretrained(MODEL_PATH)  #MODEL_PATH = \"bert-base-uncased\"\n",
        "\n",
        "class QAModel(nn.Module):\n",
        "    def __init__(self):\n",
        "        super(QAModel, self).__init__()\n",
        "        self.bert = bert_model\n",
        "        self.drop_out = nn.Dropout(0.1)\n",
        "        self.l1 = nn.Linear(768 * 2, 768 * 2)\n",
        "        self.l2 = nn.Linear(768 * 2, 2)\n",
        "        self.linear_relu_stack = nn.Sequential(\n",
        "            self.drop_out,\n",
        "            self.l1,\n",
        "            nn.LeakyReLU(),\n",
        "            self.l2\n",
        "        )\n",
        "\n",
        "    def forward(self, input_ids, attention_mask, token_type_ids):\n",
        "        model_output = self.bert(input_ids, attention_mask=attention_mask, token_type_ids=token_type_ids, output_hidden_states=True)\n",
        "        hidden_states = model_output[2]\n",
        "        out = torch.cat((hidden_states[-1], hidden_states[-3]), dim=-1)  # taking Start logits from last BERT layer, End Logits from third to last layer\n",
        "        logits = self.linear_relu_stack(out)\n",
        "\n",
        "        start_logits, end_logits = logits.split(1, dim=-1)\n",
        "\n",
        "        start_logits = start_logits.squeeze(-1)\n",
        "        end_logits = end_logits.squeeze(-1)\n",
        "\n",
        "        return start_logits, end_logits"
      ]
    },
    {
      "cell_type": "code",
      "execution_count": 49,
      "id": "07f94622",
      "metadata": {
        "execution": {
          "iopub.execute_input": "2022-09-13T17:53:05.622613Z",
          "iopub.status.busy": "2022-09-13T17:53:05.622291Z",
          "iopub.status.idle": "2022-09-13T17:53:05.651434Z",
          "shell.execute_reply": "2022-09-13T17:53:05.650549Z"
        },
        "id": "07f94622",
        "papermill": {
          "duration": 0.050654,
          "end_time": "2022-09-13T17:53:05.653648",
          "exception": false,
          "start_time": "2022-09-13T17:53:05.602994",
          "status": "completed"
        },
        "tags": []
      },
      "outputs": [],
      "source": [
        "model = QAModel()"
      ]
    },
    {
      "cell_type": "code",
      "execution_count": 50,
      "id": "61c0f3c1",
      "metadata": {
        "execution": {
          "iopub.execute_input": "2022-09-13T17:53:05.692439Z",
          "iopub.status.busy": "2022-09-13T17:53:05.692121Z",
          "iopub.status.idle": "2022-09-13T17:53:05.765497Z",
          "shell.execute_reply": "2022-09-13T17:53:05.764340Z"
        },
        "id": "61c0f3c1",
        "outputId": "d1915f1b-e4cf-4974-cf6f-f1f3f67c8faa",
        "papermill": {
          "duration": 0.095583,
          "end_time": "2022-09-13T17:53:05.767971",
          "exception": false,
          "start_time": "2022-09-13T17:53:05.672388",
          "status": "completed"
        },
        "tags": [],
        "colab": {
          "base_uri": "https://localhost:8080/"
        }
      },
      "outputs": [
        {
          "output_type": "stream",
          "name": "stdout",
          "text": [
            "cuda\n"
          ]
        }
      ],
      "source": [
        "device = torch.device('cuda') if torch.cuda.is_available() else torch.device('cpu')\n",
        "print(device)"
      ]
    },
    {
      "cell_type": "markdown",
      "id": "2382ade3",
      "metadata": {
        "id": "2382ade3",
        "papermill": {
          "duration": 0.018052,
          "end_time": "2022-09-13T17:53:05.804622",
          "exception": false,
          "start_time": "2022-09-13T17:53:05.786570",
          "status": "completed"
        },
        "tags": []
      },
      "source": [
        "## Create Loss Functions"
      ]
    },
    {
      "cell_type": "code",
      "execution_count": 51,
      "id": "d22d837d",
      "metadata": {
        "execution": {
          "iopub.execute_input": "2022-09-13T17:53:05.842769Z",
          "iopub.status.busy": "2022-09-13T17:53:05.842039Z",
          "iopub.status.idle": "2022-09-13T17:53:05.847739Z",
          "shell.execute_reply": "2022-09-13T17:53:05.846865Z"
        },
        "id": "d22d837d",
        "papermill": {
          "duration": 0.027175,
          "end_time": "2022-09-13T17:53:05.849792",
          "exception": false,
          "start_time": "2022-09-13T17:53:05.822617",
          "status": "completed"
        },
        "tags": []
      },
      "outputs": [],
      "source": [
        "# my function to manually calculate Cross Entropy Loss\n",
        "def loss_fn(start_logits, end_logits, start_positions, end_positions):\n",
        "    loss_fct = nn.CrossEntropyLoss()\n",
        "    start_loss = loss_fct(start_logits, start_positions)\n",
        "    end_loss = loss_fct(end_logits, end_positions)\n",
        "    total_loss = (start_loss + end_loss)/2\n",
        "    return total_loss"
      ]
    },
    {
      "cell_type": "code",
      "execution_count": 52,
      "id": "bf98fa5c",
      "metadata": {
        "execution": {
          "iopub.execute_input": "2022-09-13T17:53:05.887629Z",
          "iopub.status.busy": "2022-09-13T17:53:05.886837Z",
          "iopub.status.idle": "2022-09-13T17:53:05.894129Z",
          "shell.execute_reply": "2022-09-13T17:53:05.893219Z"
        },
        "id": "bf98fa5c",
        "papermill": {
          "duration": 0.028303,
          "end_time": "2022-09-13T17:53:05.896174",
          "exception": false,
          "start_time": "2022-09-13T17:53:05.867871",
          "status": "completed"
        },
        "tags": []
      },
      "outputs": [],
      "source": [
        "# my focal loss function. Focal Loss = (True Vector)*((1 - probs)^Gamma)*log(probs)\n",
        "# where Gamma is a factor we use. setting Gamma = 0 makes this a Cross Entropy Loss function\n",
        "\n",
        "def focal_loss_fn(start_logits, end_logits, start_positions, end_positions, gamma):\n",
        "\n",
        "    #calculate Probabilities by applying Softmax to the Start and End Logits. Then get 1 - probabilities\n",
        "    smax = nn.Softmax(dim=1)\n",
        "    probs_start = smax(start_logits)\n",
        "    inv_probs_start = 1 - probs_start\n",
        "    probs_end = smax(end_logits)\n",
        "    inv_probs_end = 1 - probs_end\n",
        "\n",
        "    #get log of probabilities. Note: NLLLoss required log probabilities. This is the Natural Log (Log base e)\n",
        "    lsmax = nn.LogSoftmax(dim=1)\n",
        "    log_probs_start = lsmax(start_logits)\n",
        "    log_probs_end = lsmax(end_logits)\n",
        "\n",
        "    nll = nn.NLLLoss()\n",
        "\n",
        "    fl_start = nll(torch.pow(inv_probs_start, gamma)* log_probs_start, start_positions)\n",
        "    fl_end = nll(torch.pow(inv_probs_end, gamma)*log_probs_end, end_positions)\n",
        "\n",
        "    #return mean of the Loss for the start and end logits\n",
        "    return ((fl_start + fl_end)/2)"
      ]
    },
    {
      "cell_type": "markdown",
      "id": "4c21e969",
      "metadata": {
        "id": "4c21e969",
        "papermill": {
          "duration": 0.017823,
          "end_time": "2022-09-13T17:53:05.932762",
          "exception": false,
          "start_time": "2022-09-13T17:53:05.914939",
          "status": "completed"
        },
        "tags": []
      },
      "source": [
        "### OPTIONAL: Uncomment this code if you want to test on one input ....."
      ]
    },
    {
      "cell_type": "code",
      "execution_count": 53,
      "id": "ab21be98",
      "metadata": {
        "execution": {
          "iopub.execute_input": "2022-09-13T17:53:05.971866Z",
          "iopub.status.busy": "2022-09-13T17:53:05.971537Z",
          "iopub.status.idle": "2022-09-13T17:53:05.975651Z",
          "shell.execute_reply": "2022-09-13T17:53:05.974735Z"
        },
        "id": "ab21be98",
        "papermill": {
          "duration": 0.026227,
          "end_time": "2022-09-13T17:53:05.977746",
          "exception": false,
          "start_time": "2022-09-13T17:53:05.951519",
          "status": "completed"
        },
        "tags": []
      },
      "outputs": [],
      "source": [
        "#data = next(iter(train_data_loader))\n",
        "#data.keys()"
      ]
    },
    {
      "cell_type": "code",
      "execution_count": 54,
      "id": "32ed13dc",
      "metadata": {
        "execution": {
          "iopub.execute_input": "2022-09-13T17:53:06.017135Z",
          "iopub.status.busy": "2022-09-13T17:53:06.016318Z",
          "iopub.status.idle": "2022-09-13T17:53:06.020743Z",
          "shell.execute_reply": "2022-09-13T17:53:06.019821Z"
        },
        "id": "32ed13dc",
        "papermill": {
          "duration": 0.02602,
          "end_time": "2022-09-13T17:53:06.022649",
          "exception": false,
          "start_time": "2022-09-13T17:53:05.996629",
          "status": "completed"
        },
        "tags": []
      },
      "outputs": [],
      "source": [
        "#print(data['input_ids'].shape)\n",
        "#print(data['attention_mask'].shape)"
      ]
    },
    {
      "cell_type": "code",
      "execution_count": 55,
      "id": "f5c6b64d",
      "metadata": {
        "execution": {
          "iopub.execute_input": "2022-09-13T17:53:06.062777Z",
          "iopub.status.busy": "2022-09-13T17:53:06.062478Z",
          "iopub.status.idle": "2022-09-13T17:53:06.066748Z",
          "shell.execute_reply": "2022-09-13T17:53:06.065680Z"
        },
        "id": "f5c6b64d",
        "papermill": {
          "duration": 0.026562,
          "end_time": "2022-09-13T17:53:06.068834",
          "exception": false,
          "start_time": "2022-09-13T17:53:06.042272",
          "status": "completed"
        },
        "tags": []
      },
      "outputs": [],
      "source": [
        "#run one row\n",
        "#model.to(device)\n",
        "#model.train()\n",
        "#input_ids = data['input_ids'][0].unsqueeze(0).to(device)\n",
        "#attention_mask = data['attention_mask'][0].unsqueeze(0).to(device)\n",
        "#start_positions = data['start_positions'][0].unsqueeze(0).to(device)\n",
        "#end_positions = data['end_positions'][0].unsqueeze(0).to(device)"
      ]
    },
    {
      "cell_type": "code",
      "execution_count": 56,
      "id": "a7728678",
      "metadata": {
        "execution": {
          "iopub.execute_input": "2022-09-13T17:53:06.106617Z",
          "iopub.status.busy": "2022-09-13T17:53:06.106334Z",
          "iopub.status.idle": "2022-09-13T17:53:06.110670Z",
          "shell.execute_reply": "2022-09-13T17:53:06.109648Z"
        },
        "id": "a7728678",
        "papermill": {
          "duration": 0.025851,
          "end_time": "2022-09-13T17:53:06.112728",
          "exception": false,
          "start_time": "2022-09-13T17:53:06.086877",
          "status": "completed"
        },
        "tags": []
      },
      "outputs": [],
      "source": [
        "#out_start, out_end = model(input_ids=input_ids, attention_mask=attention_mask, token_type_ids=token_type_ids)"
      ]
    },
    {
      "cell_type": "code",
      "execution_count": 57,
      "id": "32d431d8",
      "metadata": {
        "execution": {
          "iopub.execute_input": "2022-09-13T17:53:06.151207Z",
          "iopub.status.busy": "2022-09-13T17:53:06.150896Z",
          "iopub.status.idle": "2022-09-13T17:53:06.154919Z",
          "shell.execute_reply": "2022-09-13T17:53:06.154057Z"
        },
        "id": "32d431d8",
        "papermill": {
          "duration": 0.0257,
          "end_time": "2022-09-13T17:53:06.157008",
          "exception": false,
          "start_time": "2022-09-13T17:53:06.131308",
          "status": "completed"
        },
        "tags": []
      },
      "outputs": [],
      "source": [
        "#print(f\"start logits shape: {out_start.shape}\")\n",
        "#print(f\"end logits shape: {out_end.shape}\")"
      ]
    },
    {
      "cell_type": "code",
      "execution_count": 58,
      "id": "163a9311",
      "metadata": {
        "execution": {
          "iopub.execute_input": "2022-09-13T17:53:06.194557Z",
          "iopub.status.busy": "2022-09-13T17:53:06.193818Z",
          "iopub.status.idle": "2022-09-13T17:53:06.198013Z",
          "shell.execute_reply": "2022-09-13T17:53:06.197196Z"
        },
        "id": "163a9311",
        "papermill": {
          "duration": 0.024827,
          "end_time": "2022-09-13T17:53:06.199941",
          "exception": false,
          "start_time": "2022-09-13T17:53:06.175114",
          "status": "completed"
        },
        "tags": []
      },
      "outputs": [],
      "source": [
        "#answer_start_index = out_start.argmax()\n",
        "#answer_end_index = out_end.argmax()\n",
        "#print(answer_start_index)\n",
        "#print(answer_end_index)"
      ]
    },
    {
      "cell_type": "markdown",
      "id": "2e3d2e73",
      "metadata": {
        "id": "2e3d2e73",
        "papermill": {
          "duration": 0.018092,
          "end_time": "2022-09-13T17:53:06.236852",
          "exception": false,
          "start_time": "2022-09-13T17:53:06.218760",
          "status": "completed"
        },
        "tags": []
      },
      "source": [
        "## Train Loop"
      ]
    },
    {
      "cell_type": "code",
      "execution_count": 59,
      "id": "1a469fcf",
      "metadata": {
        "execution": {
          "iopub.execute_input": "2022-09-13T17:53:06.275093Z",
          "iopub.status.busy": "2022-09-13T17:53:06.274166Z",
          "iopub.status.idle": "2022-09-13T17:53:06.286098Z",
          "shell.execute_reply": "2022-09-13T17:53:06.285060Z"
        },
        "id": "1a469fcf",
        "outputId": "29c27389-f0e4-430c-c066-4468b822060d",
        "papermill": {
          "duration": 0.033748,
          "end_time": "2022-09-13T17:53:06.288541",
          "exception": false,
          "start_time": "2022-09-13T17:53:06.254793",
          "status": "completed"
        },
        "tags": [],
        "colab": {
          "base_uri": "https://localhost:8080/"
        }
      },
      "outputs": [
        {
          "output_type": "stream",
          "name": "stderr",
          "text": [
            "/usr/local/lib/python3.10/dist-packages/transformers/optimization.py:411: FutureWarning: This implementation of AdamW is deprecated and will be removed in a future version. Use the PyTorch implementation torch.optim.AdamW instead, or set `no_deprecation_warning=True` to disable this warning\n",
            "  warnings.warn(\n"
          ]
        }
      ],
      "source": [
        "optim = AdamW(model.parameters(), lr=2e-5, weight_decay=2e-2)\n",
        "scheduler = ExponentialLR(optim, gamma=0.9)\n",
        "total_acc = []\n",
        "total_loss = []"
      ]
    },
    {
      "cell_type": "code",
      "execution_count": 60,
      "id": "f15490cc",
      "metadata": {
        "execution": {
          "iopub.execute_input": "2022-09-13T17:53:06.327729Z",
          "iopub.status.busy": "2022-09-13T17:53:06.326909Z",
          "iopub.status.idle": "2022-09-13T17:53:06.343269Z",
          "shell.execute_reply": "2022-09-13T17:53:06.342305Z"
        },
        "id": "f15490cc",
        "papermill": {
          "duration": 0.037945,
          "end_time": "2022-09-13T17:53:06.345345",
          "exception": false,
          "start_time": "2022-09-13T17:53:06.307400",
          "status": "completed"
        },
        "tags": []
      },
      "outputs": [],
      "source": [
        "def train_epoch(model, dataloader, epoch):\n",
        "    model = model.train()\n",
        "    losses = []\n",
        "    acc = []\n",
        "    ctr = 0\n",
        "    batch_tracker = 0\n",
        "    for batch in tqdm(dataloader, desc = 'Running Epoch '):\n",
        "        optim.zero_grad()\n",
        "        input_ids = batch['input_ids'].to(device)\n",
        "        attention_mask = batch['attention_mask'].to(device)\n",
        "        token_type_ids = batch['token_type_ids'].to(device)\n",
        "        start_positions = batch['start_positions'].to(device)\n",
        "        end_positions = batch['end_positions'].to(device)\n",
        "        out_start, out_end = model(input_ids=input_ids,\n",
        "                attention_mask=attention_mask,\n",
        "                token_type_ids=token_type_ids)\n",
        "        #loss = loss_fn(out_start, out_end, start_positions, end_positions)  # <---BASELINE.  Cross Entropy Loss is returned by Default\n",
        "        loss = focal_loss_fn(out_start, out_end, start_positions, end_positions,1) #using gamma = 1\n",
        "        losses.append(loss.item())\n",
        "        loss.backward()\n",
        "        optim.step()\n",
        "\n",
        "        start_pred = torch.argmax(out_start, dim=1)\n",
        "        end_pred = torch.argmax(out_end, dim=1)\n",
        "\n",
        "        acc.append(((start_pred == start_positions).sum()/len(start_pred)).item())\n",
        "        acc.append(((end_pred == end_positions).sum()/len(end_pred)).item())\n",
        "        #ctr = ctr +1\n",
        "        #if ctr==50:\n",
        "        #    break\n",
        "        batch_tracker = batch_tracker + 1\n",
        "        if batch_tracker==250 and epoch==1:\n",
        "            total_acc.append(sum(acc)/len(acc))\n",
        "            loss_avg = sum(losses)/len(losses)\n",
        "            total_loss.append(loss_avg)\n",
        "            batch_tracker = 0\n",
        "    scheduler.step()\n",
        "    ret_acc = sum(acc)/len(acc)\n",
        "    ret_loss = sum(losses)/len(losses)\n",
        "    return(ret_acc, ret_loss)"
      ]
    },
    {
      "cell_type": "code",
      "execution_count": 61,
      "id": "0e4a37de",
      "metadata": {
        "execution": {
          "iopub.execute_input": "2022-09-13T17:53:06.383101Z",
          "iopub.status.busy": "2022-09-13T17:53:06.382327Z",
          "iopub.status.idle": "2022-09-13T17:53:06.390933Z",
          "shell.execute_reply": "2022-09-13T17:53:06.390073Z"
        },
        "id": "0e4a37de",
        "papermill": {
          "duration": 0.029443,
          "end_time": "2022-09-13T17:53:06.392918",
          "exception": false,
          "start_time": "2022-09-13T17:53:06.363475",
          "status": "completed"
        },
        "tags": []
      },
      "outputs": [],
      "source": [
        "def eval_model(model, dataloader):\n",
        "    model = model.eval()\n",
        "    losses = []\n",
        "    acc = []\n",
        "    ctr = 0\n",
        "    with torch.no_grad():\n",
        "        for batch in tqdm(dataloader, desc = 'Running Evaluation'):\n",
        "            input_ids = batch['input_ids'].to(device)\n",
        "            attention_mask = batch['attention_mask'].to(device)\n",
        "            token_type_ids = batch['token_type_ids'].to(device)\n",
        "            start_true = batch['start_positions'].to(device)\n",
        "            end_true = batch['end_positions'].to(device)\n",
        "\n",
        "            out_start, out_end = model(input_ids=input_ids,\n",
        "                attention_mask=attention_mask,\n",
        "                token_type_ids=token_type_ids)\n",
        "\n",
        "            start_pred = torch.argmax(out_start, dim=1)\n",
        "            end_pred = torch.argmax(out_end, dim=1)\n",
        "\n",
        "            acc.append(((start_pred == start_true).sum()/len(start_pred)).item())\n",
        "            acc.append(((end_pred == end_true).sum()/len(end_pred)).item())\n",
        "            #ctr = ctr +1\n",
        "            #if ctr==50:\n",
        "            #    break\n",
        "        ret_acc = sum(acc)/len(acc)\n",
        "        ret_loss = 0\n",
        "        #ret_loss = sum(losses)/len(losses)\n",
        "    return(ret_acc)"
      ]
    },
    {
      "cell_type": "code",
      "execution_count": 62,
      "id": "730f8a01",
      "metadata": {
        "execution": {
          "iopub.execute_input": "2022-09-13T17:53:06.430657Z",
          "iopub.status.busy": "2022-09-13T17:53:06.430404Z",
          "iopub.status.idle": "2022-09-13T20:26:54.773502Z",
          "shell.execute_reply": "2022-09-13T20:26:54.772461Z"
        },
        "id": "730f8a01",
        "outputId": "f1f5a7b0-80ac-46cc-8bba-722f6f6f7896",
        "papermill": {
          "duration": 9228.364669,
          "end_time": "2022-09-13T20:26:54.775665",
          "exception": false,
          "start_time": "2022-09-13T17:53:06.410996",
          "status": "completed"
        },
        "tags": [],
        "colab": {
          "base_uri": "https://localhost:8080/"
        }
      },
      "outputs": [
        {
          "metadata": {
            "tags": null
          },
          "name": "stderr",
          "output_type": "stream",
          "text": [
            "Running Epoch : 100%|██████████| 5427/5427 [20:28<00:00,  4.42it/s]\n"
          ]
        },
        {
          "metadata": {
            "tags": null
          },
          "name": "stdout",
          "output_type": "stream",
          "text": [
            "Train Accuracy: 0.6093456329496741      Train Loss: 1.202581216973979\n"
          ]
        },
        {
          "metadata": {
            "tags": null
          },
          "name": "stderr",
          "output_type": "stream",
          "text": [
            "Running Evaluation: 100%|██████████| 635/635 [01:30<00:00,  7.04it/s]\n"
          ]
        },
        {
          "metadata": {
            "tags": null
          },
          "name": "stdout",
          "output_type": "stream",
          "text": [
            "Validation Accuracy: 0.6623242407626524\n"
          ]
        },
        {
          "metadata": {
            "tags": null
          },
          "name": "stderr",
          "output_type": "stream",
          "text": [
            "Running Epoch : 100%|██████████| 5427/5427 [20:27<00:00,  4.42it/s]\n"
          ]
        },
        {
          "metadata": {
            "tags": null
          },
          "name": "stdout",
          "output_type": "stream",
          "text": [
            "Train Accuracy: 0.73260549106485      Train Loss: 0.6749361209449176\n"
          ]
        },
        {
          "metadata": {
            "tags": null
          },
          "name": "stderr",
          "output_type": "stream",
          "text": [
            "Running Evaluation: 100%|██████████| 635/635 [01:30<00:00,  6.99it/s]\n"
          ]
        },
        {
          "metadata": {
            "tags": null
          },
          "name": "stdout",
          "output_type": "stream",
          "text": [
            "Validation Accuracy: 0.6703107424197704\n"
          ]
        },
        {
          "metadata": {
            "tags": null
          },
          "name": "stderr",
          "output_type": "stream",
          "text": [
            "Running Epoch : 100%|██████████| 5427/5427 [20:29<00:00,  4.41it/s]\n"
          ]
        },
        {
          "metadata": {
            "tags": null
          },
          "name": "stdout",
          "output_type": "stream",
          "text": [
            "Train Accuracy: 0.7960199004975125      Train Loss: 0.44766068042164814\n"
          ]
        },
        {
          "metadata": {
            "tags": null
          },
          "name": "stderr",
          "output_type": "stream",
          "text": [
            "Running Evaluation: 100%|██████████| 635/635 [01:30<00:00,  7.00it/s]\n"
          ]
        },
        {
          "metadata": {
            "tags": null
          },
          "name": "stdout",
          "output_type": "stream",
          "text": [
            "Validation Accuracy: 0.6727959786402429\n"
          ]
        },
        {
          "output_type": "stream",
          "name": "stderr",
          "text": [
            "Running Epoch : 100%|██████████| 5427/5427 [20:27<00:00,  4.42it/s]\n"
          ]
        },
        {
          "output_type": "stream",
          "name": "stdout",
          "text": [
            "Train Accuracy: 0.843703934033536      Train Loss: 0.303896970413687\n"
          ]
        },
        {
          "output_type": "stream",
          "name": "stderr",
          "text": [
            "Running Evaluation: 100%|██████████| 635/635 [01:30<00:00,  7.01it/s]"
          ]
        },
        {
          "output_type": "stream",
          "name": "stdout",
          "text": [
            "Validation Accuracy: 0.6690312148607153\n"
          ]
        },
        {
          "output_type": "stream",
          "name": "stderr",
          "text": [
            "\n"
          ]
        }
      ],
      "source": [
        "EPOCHS = 4\n",
        "\n",
        "model.to(device)\n",
        "\n",
        "for epoch in range(EPOCHS):\n",
        "    train_acc, train_loss = train_epoch(model, train_data_loader, epoch+1)\n",
        "    print(f\"Train Accuracy: {train_acc}      Train Loss: {train_loss}\")\n",
        "    val_acc = eval_model(model, valid_data_loader)\n",
        "    print(f\"Validation Accuracy: {val_acc}\")\n",
        "\n",
        "#val_acc, val_loss = eval_model(model, valid_data_loader)\n",
        "#print(f\"Validation Accuracy: {val_acc}   Validation Loss: {val_loss}\")\n",
        ""
      ]
    },
    {
      "cell_type": "code",
      "execution_count": 63,
      "id": "939d87c7",
      "metadata": {
        "execution": {
          "iopub.execute_input": "2022-09-13T20:26:57.457418Z",
          "iopub.status.busy": "2022-09-13T20:26:57.457055Z",
          "iopub.status.idle": "2022-09-13T20:26:57.463450Z",
          "shell.execute_reply": "2022-09-13T20:26:57.462456Z"
        },
        "id": "939d87c7",
        "outputId": "60af5894-1c65-4406-82e1-57df971a491b",
        "papermill": {
          "duration": 1.349693,
          "end_time": "2022-09-13T20:26:57.465529",
          "exception": false,
          "start_time": "2022-09-13T20:26:56.115836",
          "status": "completed"
        },
        "tags": [],
        "colab": {
          "base_uri": "https://localhost:8080/"
        }
      },
      "outputs": [
        {
          "output_type": "execute_result",
          "data": {
            "text/plain": [
              "[1.3122e-05]"
            ]
          },
          "metadata": {},
          "execution_count": 63
        }
      ],
      "source": [
        "scheduler.get_last_lr()"
      ]
    },
    {
      "cell_type": "code",
      "execution_count": 64,
      "id": "6755b3f9",
      "metadata": {
        "execution": {
          "iopub.execute_input": "2022-09-13T20:27:00.063509Z",
          "iopub.status.busy": "2022-09-13T20:27:00.062968Z",
          "iopub.status.idle": "2022-09-13T20:27:00.280575Z",
          "shell.execute_reply": "2022-09-13T20:27:00.279686Z"
        },
        "id": "6755b3f9",
        "outputId": "faab3a2e-6793-4b1c-d11f-29ad95003eb3",
        "papermill": {
          "duration": 1.48535,
          "end_time": "2022-09-13T20:27:00.282579",
          "exception": false,
          "start_time": "2022-09-13T20:26:58.797229",
          "status": "completed"
        },
        "tags": [],
        "colab": {
          "base_uri": "https://localhost:8080/",
          "height": 472
        }
      },
      "outputs": [
        {
          "output_type": "display_data",
          "data": {
            "text/plain": [
              "<Figure size 640x480 with 1 Axes>"
            ],
            "image/png": "[encoded data removed]"
          },
          "metadata": {}
        }
      ],
      "source": [
        "# plot Accuracy\n",
        "plt.plot(total_acc, color='blue')\n",
        "plt.ylabel('Accuracy')\n",
        "plt.xlabel('Runs->')\n",
        "plt.title(\"Total Train Accuracy over time\");"
      ]
    },
    {
      "cell_type": "code",
      "execution_count": 65,
      "id": "8e8870ca",
      "metadata": {
        "execution": {
          "iopub.execute_input": "2022-09-13T20:27:03.228044Z",
          "iopub.status.busy": "2022-09-13T20:27:03.227670Z",
          "iopub.status.idle": "2022-09-13T20:27:03.445733Z",
          "shell.execute_reply": "2022-09-13T20:27:03.444877Z"
        },
        "id": "8e8870ca",
        "outputId": "033b0940-5db8-438e-be2b-361ee908ffab",
        "papermill": {
          "duration": 1.769154,
          "end_time": "2022-09-13T20:27:03.447937",
          "exception": false,
          "start_time": "2022-09-13T20:27:01.678783",
          "status": "completed"
        },
        "tags": [],
        "colab": {
          "base_uri": "https://localhost:8080/",
          "height": 472
        }
      },
      "outputs": [
        {
          "output_type": "display_data",
          "data": {
            "text/plain": [
              "<Figure size 640x480 with 1 Axes>"
            ],
            "image/png": "[encoded data removed]"
          },
          "metadata": {}
        }
      ],
      "source": [
        "# plot Loss\n",
        "plt.plot(total_loss, color='red')\n",
        "plt.ylabel('Loss')\n",
        "plt.xlabel('Runs->')\n",
        "plt.title(\"Total Train Loss over time\");"
      ]
    },
    {
      "cell_type": "code",
      "execution_count": 68,
      "id": "4533e916",
      "metadata": {
        "execution": {
          "iopub.execute_input": "2022-09-13T20:27:06.020156Z",
          "iopub.status.busy": "2022-09-13T20:27:06.019499Z",
          "iopub.status.idle": "2022-09-13T20:27:06.819978Z",
          "shell.execute_reply": "2022-09-13T20:27:06.818936Z"
        },
        "papermill": {
          "duration": 2.051792,
          "end_time": "2022-09-13T20:27:06.822678",
          "exception": false,
          "start_time": "2022-09-13T20:27:04.770886",
          "status": "completed"
        },
        "tags": [],
        "colab": {
          "base_uri": "https://localhost:8080/",
          "height": 328
        },
        "id": "4533e916",
        "outputId": "d0fb6195-2b15-4b19-dd14-6758fa3ca439"
      },
      "outputs": [
        {
          "output_type": "error",
          "ename": "RuntimeError",
          "evalue": "ignored",
          "traceback": [
            "\u001b[0;31m---------------------------------------------------------------------------\u001b[0m",
            "\u001b[0;31mRuntimeError\u001b[0m                              Traceback (most recent call last)",
            "\u001b[0;32m<ipython-input-68-6d70d39aaa77>\u001b[0m in \u001b[0;36m<cell line: 1>\u001b[0;34m()\u001b[0m\n\u001b[0;32m----> 1\u001b[0;31m \u001b[0mtorch\u001b[0m\u001b[0;34m.\u001b[0m\u001b[0msave\u001b[0m\u001b[0;34m(\u001b[0m\u001b[0mmodel\u001b[0m\u001b[0;34m.\u001b[0m\u001b[0mstate_dict\u001b[0m\u001b[0;34m(\u001b[0m\u001b[0;34m)\u001b[0m\u001b[0;34m,\u001b[0m \u001b[0;34m'/kaggle/working/best_model_state.bin'\u001b[0m\u001b[0;34m)\u001b[0m\u001b[0;34m\u001b[0m\u001b[0;34m\u001b[0m\u001b[0m\n\u001b[0m",
            "\u001b[0;32m/usr/local/lib/python3.10/dist-packages/torch/serialization.py\u001b[0m in \u001b[0;36msave\u001b[0;34m(obj, f, pickle_module, pickle_protocol, _use_new_zipfile_serialization)\u001b[0m\n\u001b[1;32m    438\u001b[0m \u001b[0;34m\u001b[0m\u001b[0m\n\u001b[1;32m    439\u001b[0m     \u001b[0;32mif\u001b[0m \u001b[0m_use_new_zipfile_serialization\u001b[0m\u001b[0;34m:\u001b[0m\u001b[0;34m\u001b[0m\u001b[0;34m\u001b[0m\u001b[0m\n\u001b[0;32m--> 440\u001b[0;31m         \u001b[0;32mwith\u001b[0m \u001b[0m_open_zipfile_writer\u001b[0m\u001b[0;34m(\u001b[0m\u001b[0mf\u001b[0m\u001b[0;34m)\u001b[0m \u001b[0;32mas\u001b[0m \u001b[0mopened_zipfile\u001b[0m\u001b[0;34m:\u001b[0m\u001b[0;34m\u001b[0m\u001b[0;34m\u001b[0m\u001b[0m\n\u001b[0m\u001b[1;32m    441\u001b[0m             \u001b[0m_save\u001b[0m\u001b[0;34m(\u001b[0m\u001b[0mobj\u001b[0m\u001b[0;34m,\u001b[0m \u001b[0mopened_zipfile\u001b[0m\u001b[0;34m,\u001b[0m \u001b[0mpickle_module\u001b[0m\u001b[0;34m,\u001b[0m \u001b[0mpickle_protocol\u001b[0m\u001b[0;34m)\u001b[0m\u001b[0;34m\u001b[0m\u001b[0;34m\u001b[0m\u001b[0m\n\u001b[1;32m    442\u001b[0m             \u001b[0;32mreturn\u001b[0m\u001b[0;34m\u001b[0m\u001b[0;34m\u001b[0m\u001b[0m\n",
            "\u001b[0;32m/usr/local/lib/python3.10/dist-packages/torch/serialization.py\u001b[0m in \u001b[0;36m_open_zipfile_writer\u001b[0;34m(name_or_buffer)\u001b[0m\n\u001b[1;32m    313\u001b[0m     \u001b[0;32melse\u001b[0m\u001b[0;34m:\u001b[0m\u001b[0;34m\u001b[0m\u001b[0;34m\u001b[0m\u001b[0m\n\u001b[1;32m    314\u001b[0m         \u001b[0mcontainer\u001b[0m \u001b[0;34m=\u001b[0m \u001b[0m_open_zipfile_writer_buffer\u001b[0m\u001b[0;34m\u001b[0m\u001b[0;34m\u001b[0m\u001b[0m\n\u001b[0;32m--> 315\u001b[0;31m     \u001b[0;32mreturn\u001b[0m \u001b[0mcontainer\u001b[0m\u001b[0;34m(\u001b[0m\u001b[0mname_or_buffer\u001b[0m\u001b[0;34m)\u001b[0m\u001b[0;34m\u001b[0m\u001b[0;34m\u001b[0m\u001b[0m\n\u001b[0m\u001b[1;32m    316\u001b[0m \u001b[0;34m\u001b[0m\u001b[0m\n\u001b[1;32m    317\u001b[0m \u001b[0;34m\u001b[0m\u001b[0m\n",
            "\u001b[0;32m/usr/local/lib/python3.10/dist-packages/torch/serialization.py\u001b[0m in \u001b[0;36m__init__\u001b[0;34m(self, name)\u001b[0m\n\u001b[1;32m    286\u001b[0m \u001b[0;32mclass\u001b[0m \u001b[0m_open_zipfile_writer_file\u001b[0m\u001b[0;34m(\u001b[0m\u001b[0m_opener\u001b[0m\u001b[0;34m)\u001b[0m\u001b[0;34m:\u001b[0m\u001b[0;34m\u001b[0m\u001b[0;34m\u001b[0m\u001b[0m\n\u001b[1;32m    287\u001b[0m     \u001b[0;32mdef\u001b[0m \u001b[0m__init__\u001b[0m\u001b[0;34m(\u001b[0m\u001b[0mself\u001b[0m\u001b[0;34m,\u001b[0m \u001b[0mname\u001b[0m\u001b[0;34m)\u001b[0m \u001b[0;34m->\u001b[0m \u001b[0;32mNone\u001b[0m\u001b[0;34m:\u001b[0m\u001b[0;34m\u001b[0m\u001b[0;34m\u001b[0m\u001b[0m\n\u001b[0;32m--> 288\u001b[0;31m         \u001b[0msuper\u001b[0m\u001b[0;34m(\u001b[0m\u001b[0;34m)\u001b[0m\u001b[0;34m.\u001b[0m\u001b[0m__init__\u001b[0m\u001b[0;34m(\u001b[0m\u001b[0mtorch\u001b[0m\u001b[0;34m.\u001b[0m\u001b[0m_C\u001b[0m\u001b[0;34m.\u001b[0m\u001b[0mPyTorchFileWriter\u001b[0m\u001b[0;34m(\u001b[0m\u001b[0mstr\u001b[0m\u001b[0;34m(\u001b[0m\u001b[0mname\u001b[0m\u001b[0;34m)\u001b[0m\u001b[0;34m)\u001b[0m\u001b[0;34m)\u001b[0m\u001b[0;34m\u001b[0m\u001b[0;34m\u001b[0m\u001b[0m\n\u001b[0m\u001b[1;32m    289\u001b[0m \u001b[0;34m\u001b[0m\u001b[0m\n\u001b[1;32m    290\u001b[0m     \u001b[0;32mdef\u001b[0m \u001b[0m__exit__\u001b[0m\u001b[0;34m(\u001b[0m\u001b[0mself\u001b[0m\u001b[0;34m,\u001b[0m \u001b[0;34m*\u001b[0m\u001b[0margs\u001b[0m\u001b[0;34m)\u001b[0m \u001b[0;34m->\u001b[0m \u001b[0;32mNone\u001b[0m\u001b[0;34m:\u001b[0m\u001b[0;34m\u001b[0m\u001b[0;34m\u001b[0m\u001b[0m\n",
            "\u001b[0;31mRuntimeError\u001b[0m: Parent directory /kaggle/working does not exist."
          ]
        }
      ],
      "source": [
        "torch.save(model.state_dict(), '/kaggle/working/best_model_state.bin')"
      ]
    },
    {
      "cell_type": "markdown",
      "id": "753333b0",
      "metadata": {
        "papermill": {
          "duration": 1.325707,
          "end_time": "2022-09-13T20:27:09.530362",
          "exception": false,
          "start_time": "2022-09-13T20:27:08.204655",
          "status": "completed"
        },
        "tags": [],
        "id": "753333b0"
      },
      "source": [
        "## Test"
      ]
    },
    {
      "cell_type": "code",
      "execution_count": null,
      "id": "54715f42",
      "metadata": {
        "execution": {
          "iopub.execute_input": "2022-09-13T20:27:12.239912Z",
          "iopub.status.busy": "2022-09-13T20:27:12.239283Z",
          "iopub.status.idle": "2022-09-13T20:27:12.246948Z",
          "shell.execute_reply": "2022-09-13T20:27:12.245198Z"
        },
        "papermill": {
          "duration": 1.341874,
          "end_time": "2022-09-13T20:27:12.249912",
          "exception": false,
          "start_time": "2022-09-13T20:27:10.908038",
          "status": "completed"
        },
        "tags": [],
        "id": "54715f42"
      },
      "outputs": [],
      "source": [
        "def get_answer(question, context):\n",
        "    inputs = tokenizerFast.encode_plus(question, context, return_tensors='pt').to(device)\n",
        "    with torch.no_grad():\n",
        "        output_start, output_end = model(**inputs)\n",
        "\n",
        "        answer_start = torch.argmax(output_start)\n",
        "        answer_end = torch.argmax(output_end)\n",
        "\n",
        "        answer = tokenizerFast.convert_tokens_to_string(tokenizerFast.convert_ids_to_tokens(inputs['input_ids'][0][answer_start:answer_end]))\n",
        "\n",
        "        return(answer)"
      ]
    },
    {
      "cell_type": "code",
      "execution_count": null,
      "id": "9b48fd58",
      "metadata": {
        "execution": {
          "iopub.execute_input": "2022-09-13T20:27:16.151048Z",
          "iopub.status.busy": "2022-09-13T20:27:16.150466Z",
          "iopub.status.idle": "2022-09-13T20:27:16.174458Z",
          "shell.execute_reply": "2022-09-13T20:27:16.173536Z"
        },
        "papermill": {
          "duration": 2.184314,
          "end_time": "2022-09-13T20:27:16.176502",
          "exception": false,
          "start_time": "2022-09-13T20:27:13.992188",
          "status": "completed"
        },
        "tags": [],
        "id": "9b48fd58"
      },
      "outputs": [],
      "source": [
        "test_rec = 0\n",
        "\n",
        "print(f\"Context: {valid_contexts[test_rec]}\")\n",
        "print(f\"Question: {valid_questions[test_rec]}\")\n",
        "print(f\"Expected Answer: {valid_answers[test_rec]}\")\n",
        "\n",
        "context = valid_contexts[test_rec]\n",
        "question = valid_questions[test_rec]\n",
        "\n",
        "print(f\"Predicted Answer: {get_answer(question, context)}\")"
      ]
    },
    {
      "cell_type": "code",
      "execution_count": null,
      "id": "8ca3c9b8",
      "metadata": {
        "execution": {
          "iopub.execute_input": "2022-09-13T20:27:19.017607Z",
          "iopub.status.busy": "2022-09-13T20:27:19.017046Z",
          "iopub.status.idle": "2022-09-13T20:27:19.037577Z",
          "shell.execute_reply": "2022-09-13T20:27:19.036499Z"
        },
        "papermill": {
          "duration": 1.508519,
          "end_time": "2022-09-13T20:27:19.039806",
          "exception": false,
          "start_time": "2022-09-13T20:27:17.531287",
          "status": "completed"
        },
        "tags": [],
        "id": "8ca3c9b8"
      },
      "outputs": [],
      "source": [
        "test_rec = 15\n",
        "\n",
        "print(f\"Context: {valid_contexts[test_rec]}\")\n",
        "print(f\"Question: {valid_questions[test_rec]}\")\n",
        "print(f\"Expected Answer: {valid_answers[test_rec]}\")\n",
        "\n",
        "context = valid_contexts[test_rec]\n",
        "question = valid_questions[test_rec]\n",
        "\n",
        "print(f\"Predicted Answer: {get_answer(question, context)}\")"
      ]
    },
    {
      "cell_type": "code",
      "execution_count": null,
      "id": "dfd24e3a",
      "metadata": {
        "execution": {
          "iopub.execute_input": "2022-09-13T20:27:21.728305Z",
          "iopub.status.busy": "2022-09-13T20:27:21.727767Z",
          "iopub.status.idle": "2022-09-13T20:27:21.750626Z",
          "shell.execute_reply": "2022-09-13T20:27:21.749697Z"
        },
        "papermill": {
          "duration": 1.372698,
          "end_time": "2022-09-13T20:27:21.752678",
          "exception": false,
          "start_time": "2022-09-13T20:27:20.379980",
          "status": "completed"
        },
        "tags": [],
        "id": "dfd24e3a"
      },
      "outputs": [],
      "source": [
        "test_rec = 28\n",
        "\n",
        "print(f\"Context: {valid_contexts[test_rec]}\")\n",
        "print(f\"Question: {valid_questions[test_rec]}\")\n",
        "print(f\"Expected Answer: {valid_answers[test_rec]}\")\n",
        "\n",
        "context = valid_contexts[test_rec]\n",
        "question = valid_questions[test_rec]\n",
        "\n",
        "print(f\"Predicted Answer: {get_answer(question, context)}\")"
      ]
    },
    {
      "cell_type": "code",
      "execution_count": null,
      "id": "9ca57ee4",
      "metadata": {
        "execution": {
          "iopub.execute_input": "2022-09-13T20:27:24.624435Z",
          "iopub.status.busy": "2022-09-13T20:27:24.623941Z",
          "iopub.status.idle": "2022-09-13T20:27:24.651969Z",
          "shell.execute_reply": "2022-09-13T20:27:24.650777Z"
        },
        "papermill": {
          "duration": 1.527936,
          "end_time": "2022-09-13T20:27:24.653933",
          "exception": false,
          "start_time": "2022-09-13T20:27:23.125997",
          "status": "completed"
        },
        "tags": [],
        "id": "9ca57ee4"
      },
      "outputs": [],
      "source": [
        "test_rec = 2000\n",
        "\n",
        "print(f\"Context: {valid_contexts[test_rec]}\")\n",
        "print(f\"Question: {valid_questions[test_rec]}\")\n",
        "print(f\"Expected Answer: {valid_answers[test_rec]}\")\n",
        "\n",
        "context = valid_contexts[test_rec]\n",
        "question = valid_questions[test_rec]\n",
        "\n",
        "print(f\"Predicted Answer: {get_answer(question, context)}\")"
      ]
    },
    {
      "cell_type": "code",
      "execution_count": null,
      "id": "39f2618d",
      "metadata": {
        "execution": {
          "iopub.execute_input": "2022-09-13T20:27:27.333917Z",
          "iopub.status.busy": "2022-09-13T20:27:27.333357Z",
          "iopub.status.idle": "2022-09-13T20:27:27.351759Z",
          "shell.execute_reply": "2022-09-13T20:27:27.350701Z"
        },
        "papermill": {
          "duration": 1.352068,
          "end_time": "2022-09-13T20:27:27.354462",
          "exception": false,
          "start_time": "2022-09-13T20:27:26.002394",
          "status": "completed"
        },
        "tags": [],
        "id": "39f2618d"
      },
      "outputs": [],
      "source": [
        "test_rec = 4000\n",
        "\n",
        "print(f\"Context: {valid_contexts[test_rec]}\")\n",
        "print(f\"Question: {valid_questions[test_rec]}\")\n",
        "print(f\"Expected Answer: {valid_answers[test_rec]}\")\n",
        "\n",
        "context = valid_contexts[test_rec]\n",
        "question = valid_questions[test_rec]\n",
        "\n",
        "print(f\"Predicted Answer: {get_answer(question, context)}\")"
      ]
    }
  ],
  "metadata": {
    "kernelspec": {
      "display_name": "Python 3",
      "name": "python3"
    },
    "language_info": {
      "codemirror_mode": {
        "name": "ipython",
        "version": 3
      },
      "file_extension": ".py",
      "mimetype": "text/x-python",
      "name": "python",
      "nbconvert_exporter": "python",
      "pygments_lexer": "ipython3",
      "version": "3.7.12"
    },
    "papermill": {
      "default_parameters": {},
      "duration": 9398.247084,
      "end_time": "2022-09-13T20:27:31.674971",
      "environment_variables": {},
      "exception": null,
      "input_path": "__notebook__.ipynb",
      "output_path": "__notebook__.ipynb",
      "parameters": {},
      "start_time": "2022-09-13T17:50:53.427887",
      "version": "2.3.4"
    },
    "widgets": {
      "application/vnd.jupyter.widget-state+json": {
        "3dbaec484f8c43899c5ab28bbaf75ed4": {
          "model_module": "@jupyter-widgets/controls",
          "model_name": "HBoxModel",
          "model_module_version": "1.5.0",
          "state": {
            "_dom_classes": [],
            "_model_module": "@jupyter-widgets/controls",
            "_model_module_version": "1.5.0",
            "_model_name": "HBoxModel",
            "_view_count": null,
            "_view_module": "@jupyter-widgets/controls",
            "_view_module_version": "1.5.0",
            "_view_name": "HBoxView",
            "box_style": "",
            "children": [
              "IPY_MODEL_5d041f377ecb48c2a8bda4b5d46ff403",
              "IPY_MODEL_ca3bc836f5be4b7081031a11e7b79629",
              "IPY_MODEL_4296af1c19f3445a95efcd4803150fbd"
            ],
            "layout": "IPY_MODEL_1b407b7a7bb445d3a0460f74b225edb8"
          }
        },
        "5d041f377ecb48c2a8bda4b5d46ff403": {
          "model_module": "@jupyter-widgets/controls",
          "model_name": "HTMLModel",
          "model_module_version": "1.5.0",
          "state": {
            "_dom_classes": [],
            "_model_module": "@jupyter-widgets/controls",
            "_model_module_version": "1.5.0",
            "_model_name": "HTMLModel",
            "_view_count": null,
            "_view_module": "@jupyter-widgets/controls",
            "_view_module_version": "1.5.0",
            "_view_name": "HTMLView",
            "description": "",
            "description_tooltip": null,
            "layout": "IPY_MODEL_32ea0f0a822c4d9c977537591d39f0ae",
            "placeholder": "​",
            "style": "IPY_MODEL_df2605c597d846cb821fc0ca7b5e1909",
            "value": "Downloading (…)okenizer_config.json: 100%"
          }
        },
        "ca3bc836f5be4b7081031a11e7b79629": {
          "model_module": "@jupyter-widgets/controls",
          "model_name": "FloatProgressModel",
          "model_module_version": "1.5.0",
          "state": {
            "_dom_classes": [],
            "_model_module": "@jupyter-widgets/controls",
            "_model_module_version": "1.5.0",
            "_model_name": "FloatProgressModel",
            "_view_count": null,
            "_view_module": "@jupyter-widgets/controls",
            "_view_module_version": "1.5.0",
            "_view_name": "ProgressView",
            "bar_style": "success",
            "description": "",
            "description_tooltip": null,
            "layout": "IPY_MODEL_a9966331d21f4a5ebd4c54ec7f497fe1",
            "max": 28,
            "min": 0,
            "orientation": "horizontal",
            "style": "IPY_MODEL_3db2020c13c34ab5bd306b22904552c6",
            "value": 28
          }
        },
        "4296af1c19f3445a95efcd4803150fbd": {
          "model_module": "@jupyter-widgets/controls",
          "model_name": "HTMLModel",
          "model_module_version": "1.5.0",
          "state": {
            "_dom_classes": [],
            "_model_module": "@jupyter-widgets/controls",
            "_model_module_version": "1.5.0",
            "_model_name": "HTMLModel",
            "_view_count": null,
            "_view_module": "@jupyter-widgets/controls",
            "_view_module_version": "1.5.0",
            "_view_name": "HTMLView",
            "description": "",
            "description_tooltip": null,
            "layout": "IPY_MODEL_d4b1c1e5437045159ae7b9e61c316711",
            "placeholder": "​",
            "style": "IPY_MODEL_64be5af3a4be4655856896b38882282d",
            "value": " 28.0/28.0 [00:00&lt;00:00, 1.98kB/s]"
          }
        },
        "1b407b7a7bb445d3a0460f74b225edb8": {
          "model_module": "@jupyter-widgets/base",
          "model_name": "LayoutModel",
          "model_module_version": "1.2.0",
          "state": {
            "_model_module": "@jupyter-widgets/base",
            "_model_module_version": "1.2.0",
            "_model_name": "LayoutModel",
            "_view_count": null,
            "_view_module": "@jupyter-widgets/base",
            "_view_module_version": "1.2.0",
            "_view_name": "LayoutView",
            "align_content": null,
            "align_items": null,
            "align_self": null,
            "border": null,
            "bottom": null,
            "display": null,
            "flex": null,
            "flex_flow": null,
            "grid_area": null,
            "grid_auto_columns": null,
            "grid_auto_flow": null,
            "grid_auto_rows": null,
            "grid_column": null,
            "grid_gap": null,
            "grid_row": null,
            "grid_template_areas": null,
            "grid_template_columns": null,
            "grid_template_rows": null,
            "height": null,
            "justify_content": null,
            "justify_items": null,
            "left": null,
            "margin": null,
            "max_height": null,
            "max_width": null,
            "min_height": null,
            "min_width": null,
            "object_fit": null,
            "object_position": null,
            "order": null,
            "overflow": null,
            "overflow_x": null,
            "overflow_y": null,
            "padding": null,
            "right": null,
            "top": null,
            "visibility": null,
            "width": null
          }
        },
        "32ea0f0a822c4d9c977537591d39f0ae": {
          "model_module": "@jupyter-widgets/base",
          "model_name": "LayoutModel",
          "model_module_version": "1.2.0",
          "state": {
            "_model_module": "@jupyter-widgets/base",
            "_model_module_version": "1.2.0",
            "_model_name": "LayoutModel",
            "_view_count": null,
            "_view_module": "@jupyter-widgets/base",
            "_view_module_version": "1.2.0",
            "_view_name": "LayoutView",
            "align_content": null,
            "align_items": null,
            "align_self": null,
            "border": null,
            "bottom": null,
            "display": null,
            "flex": null,
            "flex_flow": null,
            "grid_area": null,
            "grid_auto_columns": null,
            "grid_auto_flow": null,
            "grid_auto_rows": null,
            "grid_column": null,
            "grid_gap": null,
            "grid_row": null,
            "grid_template_areas": null,
            "grid_template_columns": null,
            "grid_template_rows": null,
            "height": null,
            "justify_content": null,
            "justify_items": null,
            "left": null,
            "margin": null,
            "max_height": null,
            "max_width": null,
            "min_height": null,
            "min_width": null,
            "object_fit": null,
            "object_position": null,
            "order": null,
            "overflow": null,
            "overflow_x": null,
            "overflow_y": null,
            "padding": null,
            "right": null,
            "top": null,
            "visibility": null,
            "width": null
          }
        },
        "df2605c597d846cb821fc0ca7b5e1909": {
          "model_module": "@jupyter-widgets/controls",
          "model_name": "DescriptionStyleModel",
          "model_module_version": "1.5.0",
          "state": {
            "_model_module": "@jupyter-widgets/controls",
            "_model_module_version": "1.5.0",
            "_model_name": "DescriptionStyleModel",
            "_view_count": null,
            "_view_module": "@jupyter-widgets/base",
            "_view_module_version": "1.2.0",
            "_view_name": "StyleView",
            "description_width": ""
          }
        },
        "a9966331d21f4a5ebd4c54ec7f497fe1": {
          "model_module": "@jupyter-widgets/base",
          "model_name": "LayoutModel",
          "model_module_version": "1.2.0",
          "state": {
            "_model_module": "@jupyter-widgets/base",
            "_model_module_version": "1.2.0",
            "_model_name": "LayoutModel",
            "_view_count": null,
            "_view_module": "@jupyter-widgets/base",
            "_view_module_version": "1.2.0",
            "_view_name": "LayoutView",
            "align_content": null,
            "align_items": null,
            "align_self": null,
            "border": null,
            "bottom": null,
            "display": null,
            "flex": null,
            "flex_flow": null,
            "grid_area": null,
            "grid_auto_columns": null,
            "grid_auto_flow": null,
            "grid_auto_rows": null,
            "grid_column": null,
            "grid_gap": null,
            "grid_row": null,
            "grid_template_areas": null,
            "grid_template_columns": null,
            "grid_template_rows": null,
            "height": null,
            "justify_content": null,
            "justify_items": null,
            "left": null,
            "margin": null,
            "max_height": null,
            "max_width": null,
            "min_height": null,
            "min_width": null,
            "object_fit": null,
            "object_position": null,
            "order": null,
            "overflow": null,
            "overflow_x": null,
            "overflow_y": null,
            "padding": null,
            "right": null,
            "top": null,
            "visibility": null,
            "width": null
          }
        },
        "3db2020c13c34ab5bd306b22904552c6": {
          "model_module": "@jupyter-widgets/controls",
          "model_name": "ProgressStyleModel",
          "model_module_version": "1.5.0",
          "state": {
            "_model_module": "@jupyter-widgets/controls",
            "_model_module_version": "1.5.0",
            "_model_name": "ProgressStyleModel",
            "_view_count": null,
            "_view_module": "@jupyter-widgets/base",
            "_view_module_version": "1.2.0",
            "_view_name": "StyleView",
            "bar_color": null,
            "description_width": ""
          }
        },
        "d4b1c1e5437045159ae7b9e61c316711": {
          "model_module": "@jupyter-widgets/base",
          "model_name": "LayoutModel",
          "model_module_version": "1.2.0",
          "state": {
            "_model_module": "@jupyter-widgets/base",
            "_model_module_version": "1.2.0",
            "_model_name": "LayoutModel",
            "_view_count": null,
            "_view_module": "@jupyter-widgets/base",
            "_view_module_version": "1.2.0",
            "_view_name": "LayoutView",
            "align_content": null,
            "align_items": null,
            "align_self": null,
            "border": null,
            "bottom": null,
            "display": null,
            "flex": null,
            "flex_flow": null,
            "grid_area": null,
            "grid_auto_columns": null,
            "grid_auto_flow": null,
            "grid_auto_rows": null,
            "grid_column": null,
            "grid_gap": null,
            "grid_row": null,
            "grid_template_areas": null,
            "grid_template_columns": null,
            "grid_template_rows": null,
            "height": null,
            "justify_content": null,
            "justify_items": null,
            "left": null,
            "margin": null,
            "max_height": null,
            "max_width": null,
            "min_height": null,
            "min_width": null,
            "object_fit": null,
            "object_position": null,
            "order": null,
            "overflow": null,
            "overflow_x": null,
            "overflow_y": null,
            "padding": null,
            "right": null,
            "top": null,
            "visibility": null,
            "width": null
          }
        },
        "64be5af3a4be4655856896b38882282d": {
          "model_module": "@jupyter-widgets/controls",
          "model_name": "DescriptionStyleModel",
          "model_module_version": "1.5.0",
          "state": {
            "_model_module": "@jupyter-widgets/controls",
            "_model_module_version": "1.5.0",
            "_model_name": "DescriptionStyleModel",
            "_view_count": null,
            "_view_module": "@jupyter-widgets/base",
            "_view_module_version": "1.2.0",
            "_view_name": "StyleView",
            "description_width": ""
          }
        },
        "18c54b21fe6d4f179cf8e897f836bf59": {
          "model_module": "@jupyter-widgets/controls",
          "model_name": "HBoxModel",
          "model_module_version": "1.5.0",
          "state": {
            "_dom_classes": [],
            "_model_module": "@jupyter-widgets/controls",
            "_model_module_version": "1.5.0",
            "_model_name": "HBoxModel",
            "_view_count": null,
            "_view_module": "@jupyter-widgets/controls",
            "_view_module_version": "1.5.0",
            "_view_name": "HBoxView",
            "box_style": "",
            "children": [
              "IPY_MODEL_ba2d3189947040dcb4b3ff45022cc110",
              "IPY_MODEL_735be00097744e49a3e00c042fb7a709",
              "IPY_MODEL_6e511dc716f44250aea42d9b0c8f904a"
            ],
            "layout": "IPY_MODEL_a0dda445664d49cb8479cdca4428b67a"
          }
        },
        "ba2d3189947040dcb4b3ff45022cc110": {
          "model_module": "@jupyter-widgets/controls",
          "model_name": "HTMLModel",
          "model_module_version": "1.5.0",
          "state": {
            "_dom_classes": [],
            "_model_module": "@jupyter-widgets/controls",
            "_model_module_version": "1.5.0",
            "_model_name": "HTMLModel",
            "_view_count": null,
            "_view_module": "@jupyter-widgets/controls",
            "_view_module_version": "1.5.0",
            "_view_name": "HTMLView",
            "description": "",
            "description_tooltip": null,
            "layout": "IPY_MODEL_6c8c9b579a1f4452807583153ad13624",
            "placeholder": "​",
            "style": "IPY_MODEL_97a93603bfa645fb8698fd6815d04473",
            "value": "Downloading (…)solve/main/vocab.txt: 100%"
          }
        },
        "735be00097744e49a3e00c042fb7a709": {
          "model_module": "@jupyter-widgets/controls",
          "model_name": "FloatProgressModel",
          "model_module_version": "1.5.0",
          "state": {
            "_dom_classes": [],
            "_model_module": "@jupyter-widgets/controls",
            "_model_module_version": "1.5.0",
            "_model_name": "FloatProgressModel",
            "_view_count": null,
            "_view_module": "@jupyter-widgets/controls",
            "_view_module_version": "1.5.0",
            "_view_name": "ProgressView",
            "bar_style": "success",
            "description": "",
            "description_tooltip": null,
            "layout": "IPY_MODEL_84ee2db514d243aebad12f9ff378f71c",
            "max": 231508,
            "min": 0,
            "orientation": "horizontal",
            "style": "IPY_MODEL_f92a47cf2a9242b7a1398ea21999c1fb",
            "value": 231508
          }
        },
        "6e511dc716f44250aea42d9b0c8f904a": {
          "model_module": "@jupyter-widgets/controls",
          "model_name": "HTMLModel",
          "model_module_version": "1.5.0",
          "state": {
            "_dom_classes": [],
            "_model_module": "@jupyter-widgets/controls",
            "_model_module_version": "1.5.0",
            "_model_name": "HTMLModel",
            "_view_count": null,
            "_view_module": "@jupyter-widgets/controls",
            "_view_module_version": "1.5.0",
            "_view_name": "HTMLView",
            "description": "",
            "description_tooltip": null,
            "layout": "IPY_MODEL_48d4e10994384778aab735b8bf4633ef",
            "placeholder": "​",
            "style": "IPY_MODEL_2407e834944d4910bc272aa030155043",
            "value": " 232k/232k [00:00&lt;00:00, 9.71MB/s]"
          }
        },
        "a0dda445664d49cb8479cdca4428b67a": {
          "model_module": "@jupyter-widgets/base",
          "model_name": "LayoutModel",
          "model_module_version": "1.2.0",
          "state": {
            "_model_module": "@jupyter-widgets/base",
            "_model_module_version": "1.2.0",
            "_model_name": "LayoutModel",
            "_view_count": null,
            "_view_module": "@jupyter-widgets/base",
            "_view_module_version": "1.2.0",
            "_view_name": "LayoutView",
            "align_content": null,
            "align_items": null,
            "align_self": null,
            "border": null,
            "bottom": null,
            "display": null,
            "flex": null,
            "flex_flow": null,
            "grid_area": null,
            "grid_auto_columns": null,
            "grid_auto_flow": null,
            "grid_auto_rows": null,
            "grid_column": null,
            "grid_gap": null,
            "grid_row": null,
            "grid_template_areas": null,
            "grid_template_columns": null,
            "grid_template_rows": null,
            "height": null,
            "justify_content": null,
            "justify_items": null,
            "left": null,
            "margin": null,
            "max_height": null,
            "max_width": null,
            "min_height": null,
            "min_width": null,
            "object_fit": null,
            "object_position": null,
            "order": null,
            "overflow": null,
            "overflow_x": null,
            "overflow_y": null,
            "padding": null,
            "right": null,
            "top": null,
            "visibility": null,
            "width": null
          }
        },
        "6c8c9b579a1f4452807583153ad13624": {
          "model_module": "@jupyter-widgets/base",
          "model_name": "LayoutModel",
          "model_module_version": "1.2.0",
          "state": {
            "_model_module": "@jupyter-widgets/base",
            "_model_module_version": "1.2.0",
            "_model_name": "LayoutModel",
            "_view_count": null,
            "_view_module": "@jupyter-widgets/base",
            "_view_module_version": "1.2.0",
            "_view_name": "LayoutView",
            "align_content": null,
            "align_items": null,
            "align_self": null,
            "border": null,
            "bottom": null,
            "display": null,
            "flex": null,
            "flex_flow": null,
            "grid_area": null,
            "grid_auto_columns": null,
            "grid_auto_flow": null,
            "grid_auto_rows": null,
            "grid_column": null,
            "grid_gap": null,
            "grid_row": null,
            "grid_template_areas": null,
            "grid_template_columns": null,
            "grid_template_rows": null,
            "height": null,
            "justify_content": null,
            "justify_items": null,
            "left": null,
            "margin": null,
            "max_height": null,
            "max_width": null,
            "min_height": null,
            "min_width": null,
            "object_fit": null,
            "object_position": null,
            "order": null,
            "overflow": null,
            "overflow_x": null,
            "overflow_y": null,
            "padding": null,
            "right": null,
            "top": null,
            "visibility": null,
            "width": null
          }
        },
        "97a93603bfa645fb8698fd6815d04473": {
          "model_module": "@jupyter-widgets/controls",
          "model_name": "DescriptionStyleModel",
          "model_module_version": "1.5.0",
          "state": {
            "_model_module": "@jupyter-widgets/controls",
            "_model_module_version": "1.5.0",
            "_model_name": "DescriptionStyleModel",
            "_view_count": null,
            "_view_module": "@jupyter-widgets/base",
            "_view_module_version": "1.2.0",
            "_view_name": "StyleView",
            "description_width": ""
          }
        },
        "84ee2db514d243aebad12f9ff378f71c": {
          "model_module": "@jupyter-widgets/base",
          "model_name": "LayoutModel",
          "model_module_version": "1.2.0",
          "state": {
            "_model_module": "@jupyter-widgets/base",
            "_model_module_version": "1.2.0",
            "_model_name": "LayoutModel",
            "_view_count": null,
            "_view_module": "@jupyter-widgets/base",
            "_view_module_version": "1.2.0",
            "_view_name": "LayoutView",
            "align_content": null,
            "align_items": null,
            "align_self": null,
            "border": null,
            "bottom": null,
            "display": null,
            "flex": null,
            "flex_flow": null,
            "grid_area": null,
            "grid_auto_columns": null,
            "grid_auto_flow": null,
            "grid_auto_rows": null,
            "grid_column": null,
            "grid_gap": null,
            "grid_row": null,
            "grid_template_areas": null,
            "grid_template_columns": null,
            "grid_template_rows": null,
            "height": null,
            "justify_content": null,
            "justify_items": null,
            "left": null,
            "margin": null,
            "max_height": null,
            "max_width": null,
            "min_height": null,
            "min_width": null,
            "object_fit": null,
            "object_position": null,
            "order": null,
            "overflow": null,
            "overflow_x": null,
            "overflow_y": null,
            "padding": null,
            "right": null,
            "top": null,
            "visibility": null,
            "width": null
          }
        },
        "f92a47cf2a9242b7a1398ea21999c1fb": {
          "model_module": "@jupyter-widgets/controls",
          "model_name": "ProgressStyleModel",
          "model_module_version": "1.5.0",
          "state": {
            "_model_module": "@jupyter-widgets/controls",
            "_model_module_version": "1.5.0",
            "_model_name": "ProgressStyleModel",
            "_view_count": null,
            "_view_module": "@jupyter-widgets/base",
            "_view_module_version": "1.2.0",
            "_view_name": "StyleView",
            "bar_color": null,
            "description_width": ""
          }
        },
        "48d4e10994384778aab735b8bf4633ef": {
          "model_module": "@jupyter-widgets/base",
          "model_name": "LayoutModel",
          "model_module_version": "1.2.0",
          "state": {
            "_model_module": "@jupyter-widgets/base",
            "_model_module_version": "1.2.0",
            "_model_name": "LayoutModel",
            "_view_count": null,
            "_view_module": "@jupyter-widgets/base",
            "_view_module_version": "1.2.0",
            "_view_name": "LayoutView",
            "align_content": null,
            "align_items": null,
            "align_self": null,
            "border": null,
            "bottom": null,
            "display": null,
            "flex": null,
            "flex_flow": null,
            "grid_area": null,
            "grid_auto_columns": null,
            "grid_auto_flow": null,
            "grid_auto_rows": null,
            "grid_column": null,
            "grid_gap": null,
            "grid_row": null,
            "grid_template_areas": null,
            "grid_template_columns": null,
            "grid_template_rows": null,
            "height": null,
            "justify_content": null,
            "justify_items": null,
            "left": null,
            "margin": null,
            "max_height": null,
            "max_width": null,
            "min_height": null,
            "min_width": null,
            "object_fit": null,
            "object_position": null,
            "order": null,
            "overflow": null,
            "overflow_x": null,
            "overflow_y": null,
            "padding": null,
            "right": null,
            "top": null,
            "visibility": null,
            "width": null
          }
        },
        "2407e834944d4910bc272aa030155043": {
          "model_module": "@jupyter-widgets/controls",
          "model_name": "DescriptionStyleModel",
          "model_module_version": "1.5.0",
          "state": {
            "_model_module": "@jupyter-widgets/controls",
            "_model_module_version": "1.5.0",
            "_model_name": "DescriptionStyleModel",
            "_view_count": null,
            "_view_module": "@jupyter-widgets/base",
            "_view_module_version": "1.2.0",
            "_view_name": "StyleView",
            "description_width": ""
          }
        },
        "d6e71c651f06484a81e0f39eaa2e6e6d": {
          "model_module": "@jupyter-widgets/controls",
          "model_name": "HBoxModel",
          "model_module_version": "1.5.0",
          "state": {
            "_dom_classes": [],
            "_model_module": "@jupyter-widgets/controls",
            "_model_module_version": "1.5.0",
            "_model_name": "HBoxModel",
            "_view_count": null,
            "_view_module": "@jupyter-widgets/controls",
            "_view_module_version": "1.5.0",
            "_view_name": "HBoxView",
            "box_style": "",
            "children": [
              "IPY_MODEL_2bb65b8b8cff4b2f8d674402d6583414",
              "IPY_MODEL_afada5c7b3b645b1869adbf4cf0f1b72",
              "IPY_MODEL_854b0bbfae0945e4abaac39c2cc4aff0"
            ],
            "layout": "IPY_MODEL_d7f3f519ba9945459e337ec095d603ce"
          }
        },
        "2bb65b8b8cff4b2f8d674402d6583414": {
          "model_module": "@jupyter-widgets/controls",
          "model_name": "HTMLModel",
          "model_module_version": "1.5.0",
          "state": {
            "_dom_classes": [],
            "_model_module": "@jupyter-widgets/controls",
            "_model_module_version": "1.5.0",
            "_model_name": "HTMLModel",
            "_view_count": null,
            "_view_module": "@jupyter-widgets/controls",
            "_view_module_version": "1.5.0",
            "_view_name": "HTMLView",
            "description": "",
            "description_tooltip": null,
            "layout": "IPY_MODEL_e75d014249374235a84192fd7c2de718",
            "placeholder": "​",
            "style": "IPY_MODEL_e3b1427d3d7b4096b09808961d999e74",
            "value": "Downloading (…)/main/tokenizer.json: 100%"
          }
        },
        "afada5c7b3b645b1869adbf4cf0f1b72": {
          "model_module": "@jupyter-widgets/controls",
          "model_name": "FloatProgressModel",
          "model_module_version": "1.5.0",
          "state": {
            "_dom_classes": [],
            "_model_module": "@jupyter-widgets/controls",
            "_model_module_version": "1.5.0",
            "_model_name": "FloatProgressModel",
            "_view_count": null,
            "_view_module": "@jupyter-widgets/controls",
            "_view_module_version": "1.5.0",
            "_view_name": "ProgressView",
            "bar_style": "success",
            "description": "",
            "description_tooltip": null,
            "layout": "IPY_MODEL_c762a463dcbd48618ec6e69cea9388d5",
            "max": 466062,
            "min": 0,
            "orientation": "horizontal",
            "style": "IPY_MODEL_263b8d8c4134486b9175263ca6c3c43c",
            "value": 466062
          }
        },
        "854b0bbfae0945e4abaac39c2cc4aff0": {
          "model_module": "@jupyter-widgets/controls",
          "model_name": "HTMLModel",
          "model_module_version": "1.5.0",
          "state": {
            "_dom_classes": [],
            "_model_module": "@jupyter-widgets/controls",
            "_model_module_version": "1.5.0",
            "_model_name": "HTMLModel",
            "_view_count": null,
            "_view_module": "@jupyter-widgets/controls",
            "_view_module_version": "1.5.0",
            "_view_name": "HTMLView",
            "description": "",
            "description_tooltip": null,
            "layout": "IPY_MODEL_9fbf7a15817d45969376ac260a10f4af",
            "placeholder": "​",
            "style": "IPY_MODEL_3cef7abc0ed84c25adb579cbd24c2cfd",
            "value": " 466k/466k [00:00&lt;00:00, 2.86MB/s]"
          }
        },
        "d7f3f519ba9945459e337ec095d603ce": {
          "model_module": "@jupyter-widgets/base",
          "model_name": "LayoutModel",
          "model_module_version": "1.2.0",
          "state": {
            "_model_module": "@jupyter-widgets/base",
            "_model_module_version": "1.2.0",
            "_model_name": "LayoutModel",
            "_view_count": null,
            "_view_module": "@jupyter-widgets/base",
            "_view_module_version": "1.2.0",
            "_view_name": "LayoutView",
            "align_content": null,
            "align_items": null,
            "align_self": null,
            "border": null,
            "bottom": null,
            "display": null,
            "flex": null,
            "flex_flow": null,
            "grid_area": null,
            "grid_auto_columns": null,
            "grid_auto_flow": null,
            "grid_auto_rows": null,
            "grid_column": null,
            "grid_gap": null,
            "grid_row": null,
            "grid_template_areas": null,
            "grid_template_columns": null,
            "grid_template_rows": null,
            "height": null,
            "justify_content": null,
            "justify_items": null,
            "left": null,
            "margin": null,
            "max_height": null,
            "max_width": null,
            "min_height": null,
            "min_width": null,
            "object_fit": null,
            "object_position": null,
            "order": null,
            "overflow": null,
            "overflow_x": null,
            "overflow_y": null,
            "padding": null,
            "right": null,
            "top": null,
            "visibility": null,
            "width": null
          }
        },
        "e75d014249374235a84192fd7c2de718": {
          "model_module": "@jupyter-widgets/base",
          "model_name": "LayoutModel",
          "model_module_version": "1.2.0",
          "state": {
            "_model_module": "@jupyter-widgets/base",
            "_model_module_version": "1.2.0",
            "_model_name": "LayoutModel",
            "_view_count": null,
            "_view_module": "@jupyter-widgets/base",
            "_view_module_version": "1.2.0",
            "_view_name": "LayoutView",
            "align_content": null,
            "align_items": null,
            "align_self": null,
            "border": null,
            "bottom": null,
            "display": null,
            "flex": null,
            "flex_flow": null,
            "grid_area": null,
            "grid_auto_columns": null,
            "grid_auto_flow": null,
            "grid_auto_rows": null,
            "grid_column": null,
            "grid_gap": null,
            "grid_row": null,
            "grid_template_areas": null,
            "grid_template_columns": null,
            "grid_template_rows": null,
            "height": null,
            "justify_content": null,
            "justify_items": null,
            "left": null,
            "margin": null,
            "max_height": null,
            "max_width": null,
            "min_height": null,
            "min_width": null,
            "object_fit": null,
            "object_position": null,
            "order": null,
            "overflow": null,
            "overflow_x": null,
            "overflow_y": null,
            "padding": null,
            "right": null,
            "top": null,
            "visibility": null,
            "width": null
          }
        },
        "e3b1427d3d7b4096b09808961d999e74": {
          "model_module": "@jupyter-widgets/controls",
          "model_name": "DescriptionStyleModel",
          "model_module_version": "1.5.0",
          "state": {
            "_model_module": "@jupyter-widgets/controls",
            "_model_module_version": "1.5.0",
            "_model_name": "DescriptionStyleModel",
            "_view_count": null,
            "_view_module": "@jupyter-widgets/base",
            "_view_module_version": "1.2.0",
            "_view_name": "StyleView",
            "description_width": ""
          }
        },
        "c762a463dcbd48618ec6e69cea9388d5": {
          "model_module": "@jupyter-widgets/base",
          "model_name": "LayoutModel",
          "model_module_version": "1.2.0",
          "state": {
            "_model_module": "@jupyter-widgets/base",
            "_model_module_version": "1.2.0",
            "_model_name": "LayoutModel",
            "_view_count": null,
            "_view_module": "@jupyter-widgets/base",
            "_view_module_version": "1.2.0",
            "_view_name": "LayoutView",
            "align_content": null,
            "align_items": null,
            "align_self": null,
            "border": null,
            "bottom": null,
            "display": null,
            "flex": null,
            "flex_flow": null,
            "grid_area": null,
            "grid_auto_columns": null,
            "grid_auto_flow": null,
            "grid_auto_rows": null,
            "grid_column": null,
            "grid_gap": null,
            "grid_row": null,
            "grid_template_areas": null,
            "grid_template_columns": null,
            "grid_template_rows": null,
            "height": null,
            "justify_content": null,
            "justify_items": null,
            "left": null,
            "margin": null,
            "max_height": null,
            "max_width": null,
            "min_height": null,
            "min_width": null,
            "object_fit": null,
            "object_position": null,
            "order": null,
            "overflow": null,
            "overflow_x": null,
            "overflow_y": null,
            "padding": null,
            "right": null,
            "top": null,
            "visibility": null,
            "width": null
          }
        },
        "263b8d8c4134486b9175263ca6c3c43c": {
          "model_module": "@jupyter-widgets/controls",
          "model_name": "ProgressStyleModel",
          "model_module_version": "1.5.0",
          "state": {
            "_model_module": "@jupyter-widgets/controls",
            "_model_module_version": "1.5.0",
            "_model_name": "ProgressStyleModel",
            "_view_count": null,
            "_view_module": "@jupyter-widgets/base",
            "_view_module_version": "1.2.0",
            "_view_name": "StyleView",
            "bar_color": null,
            "description_width": ""
          }
        },
        "9fbf7a15817d45969376ac260a10f4af": {
          "model_module": "@jupyter-widgets/base",
          "model_name": "LayoutModel",
          "model_module_version": "1.2.0",
          "state": {
            "_model_module": "@jupyter-widgets/base",
            "_model_module_version": "1.2.0",
            "_model_name": "LayoutModel",
            "_view_count": null,
            "_view_module": "@jupyter-widgets/base",
            "_view_module_version": "1.2.0",
            "_view_name": "LayoutView",
            "align_content": null,
            "align_items": null,
            "align_self": null,
            "border": null,
            "bottom": null,
            "display": null,
            "flex": null,
            "flex_flow": null,
            "grid_area": null,
            "grid_auto_columns": null,
            "grid_auto_flow": null,
            "grid_auto_rows": null,
            "grid_column": null,
            "grid_gap": null,
            "grid_row": null,
            "grid_template_areas": null,
            "grid_template_columns": null,
            "grid_template_rows": null,
            "height": null,
            "justify_content": null,
            "justify_items": null,
            "left": null,
            "margin": null,
            "max_height": null,
            "max_width": null,
            "min_height": null,
            "min_width": null,
            "object_fit": null,
            "object_position": null,
            "order": null,
            "overflow": null,
            "overflow_x": null,
            "overflow_y": null,
            "padding": null,
            "right": null,
            "top": null,
            "visibility": null,
            "width": null
          }
        },
        "3cef7abc0ed84c25adb579cbd24c2cfd": {
          "model_module": "@jupyter-widgets/controls",
          "model_name": "DescriptionStyleModel",
          "model_module_version": "1.5.0",
          "state": {
            "_model_module": "@jupyter-widgets/controls",
            "_model_module_version": "1.5.0",
            "_model_name": "DescriptionStyleModel",
            "_view_count": null,
            "_view_module": "@jupyter-widgets/base",
            "_view_module_version": "1.2.0",
            "_view_name": "StyleView",
            "description_width": ""
          }
        },
        "d99a7f52e6c34c12bac36f38ab0c1a6d": {
          "model_module": "@jupyter-widgets/controls",
          "model_name": "HBoxModel",
          "model_module_version": "1.5.0",
          "state": {
            "_dom_classes": [],
            "_model_module": "@jupyter-widgets/controls",
            "_model_module_version": "1.5.0",
            "_model_name": "HBoxModel",
            "_view_count": null,
            "_view_module": "@jupyter-widgets/controls",
            "_view_module_version": "1.5.0",
            "_view_name": "HBoxView",
            "box_style": "",
            "children": [
              "IPY_MODEL_7298777abad3405f8f92c8468e98af03",
              "IPY_MODEL_fd48154055b244e6b6444d7183b5bb88",
              "IPY_MODEL_a70f55b08e474f42a362b774e5a7d54e"
            ],
            "layout": "IPY_MODEL_21fa35136d594ac786906587cdf2dc51"
          }
        },
        "7298777abad3405f8f92c8468e98af03": {
          "model_module": "@jupyter-widgets/controls",
          "model_name": "HTMLModel",
          "model_module_version": "1.5.0",
          "state": {
            "_dom_classes": [],
            "_model_module": "@jupyter-widgets/controls",
            "_model_module_version": "1.5.0",
            "_model_name": "HTMLModel",
            "_view_count": null,
            "_view_module": "@jupyter-widgets/controls",
            "_view_module_version": "1.5.0",
            "_view_name": "HTMLView",
            "description": "",
            "description_tooltip": null,
            "layout": "IPY_MODEL_e813715aa29d459686bc1beda9a04425",
            "placeholder": "​",
            "style": "IPY_MODEL_e8f5158d5ad14603bf56a910f5919e82",
            "value": "Downloading (…)lve/main/config.json: 100%"
          }
        },
        "fd48154055b244e6b6444d7183b5bb88": {
          "model_module": "@jupyter-widgets/controls",
          "model_name": "FloatProgressModel",
          "model_module_version": "1.5.0",
          "state": {
            "_dom_classes": [],
            "_model_module": "@jupyter-widgets/controls",
            "_model_module_version": "1.5.0",
            "_model_name": "FloatProgressModel",
            "_view_count": null,
            "_view_module": "@jupyter-widgets/controls",
            "_view_module_version": "1.5.0",
            "_view_name": "ProgressView",
            "bar_style": "success",
            "description": "",
            "description_tooltip": null,
            "layout": "IPY_MODEL_57f534df57b349d2b353512b58f6d192",
            "max": 570,
            "min": 0,
            "orientation": "horizontal",
            "style": "IPY_MODEL_61cf485d9561415da7cfb8a03bb83704",
            "value": 570
          }
        },
        "a70f55b08e474f42a362b774e5a7d54e": {
          "model_module": "@jupyter-widgets/controls",
          "model_name": "HTMLModel",
          "model_module_version": "1.5.0",
          "state": {
            "_dom_classes": [],
            "_model_module": "@jupyter-widgets/controls",
            "_model_module_version": "1.5.0",
            "_model_name": "HTMLModel",
            "_view_count": null,
            "_view_module": "@jupyter-widgets/controls",
            "_view_module_version": "1.5.0",
            "_view_name": "HTMLView",
            "description": "",
            "description_tooltip": null,
            "layout": "IPY_MODEL_2756694a7471442faa5648f43b73ab76",
            "placeholder": "​",
            "style": "IPY_MODEL_25e65e91fa424fef86cb2b619ae98e02",
            "value": " 570/570 [00:00&lt;00:00, 31.8kB/s]"
          }
        },
        "21fa35136d594ac786906587cdf2dc51": {
          "model_module": "@jupyter-widgets/base",
          "model_name": "LayoutModel",
          "model_module_version": "1.2.0",
          "state": {
            "_model_module": "@jupyter-widgets/base",
            "_model_module_version": "1.2.0",
            "_model_name": "LayoutModel",
            "_view_count": null,
            "_view_module": "@jupyter-widgets/base",
            "_view_module_version": "1.2.0",
            "_view_name": "LayoutView",
            "align_content": null,
            "align_items": null,
            "align_self": null,
            "border": null,
            "bottom": null,
            "display": null,
            "flex": null,
            "flex_flow": null,
            "grid_area": null,
            "grid_auto_columns": null,
            "grid_auto_flow": null,
            "grid_auto_rows": null,
            "grid_column": null,
            "grid_gap": null,
            "grid_row": null,
            "grid_template_areas": null,
            "grid_template_columns": null,
            "grid_template_rows": null,
            "height": null,
            "justify_content": null,
            "justify_items": null,
            "left": null,
            "margin": null,
            "max_height": null,
            "max_width": null,
            "min_height": null,
            "min_width": null,
            "object_fit": null,
            "object_position": null,
            "order": null,
            "overflow": null,
            "overflow_x": null,
            "overflow_y": null,
            "padding": null,
            "right": null,
            "top": null,
            "visibility": null,
            "width": null
          }
        },
        "e813715aa29d459686bc1beda9a04425": {
          "model_module": "@jupyter-widgets/base",
          "model_name": "LayoutModel",
          "model_module_version": "1.2.0",
          "state": {
            "_model_module": "@jupyter-widgets/base",
            "_model_module_version": "1.2.0",
            "_model_name": "LayoutModel",
            "_view_count": null,
            "_view_module": "@jupyter-widgets/base",
            "_view_module_version": "1.2.0",
            "_view_name": "LayoutView",
            "align_content": null,
            "align_items": null,
            "align_self": null,
            "border": null,
            "bottom": null,
            "display": null,
            "flex": null,
            "flex_flow": null,
            "grid_area": null,
            "grid_auto_columns": null,
            "grid_auto_flow": null,
            "grid_auto_rows": null,
            "grid_column": null,
            "grid_gap": null,
            "grid_row": null,
            "grid_template_areas": null,
            "grid_template_columns": null,
            "grid_template_rows": null,
            "height": null,
            "justify_content": null,
            "justify_items": null,
            "left": null,
            "margin": null,
            "max_height": null,
            "max_width": null,
            "min_height": null,
            "min_width": null,
            "object_fit": null,
            "object_position": null,
            "order": null,
            "overflow": null,
            "overflow_x": null,
            "overflow_y": null,
            "padding": null,
            "right": null,
            "top": null,
            "visibility": null,
            "width": null
          }
        },
        "e8f5158d5ad14603bf56a910f5919e82": {
          "model_module": "@jupyter-widgets/controls",
          "model_name": "DescriptionStyleModel",
          "model_module_version": "1.5.0",
          "state": {
            "_model_module": "@jupyter-widgets/controls",
            "_model_module_version": "1.5.0",
            "_model_name": "DescriptionStyleModel",
            "_view_count": null,
            "_view_module": "@jupyter-widgets/base",
            "_view_module_version": "1.2.0",
            "_view_name": "StyleView",
            "description_width": ""
          }
        },
        "57f534df57b349d2b353512b58f6d192": {
          "model_module": "@jupyter-widgets/base",
          "model_name": "LayoutModel",
          "model_module_version": "1.2.0",
          "state": {
            "_model_module": "@jupyter-widgets/base",
            "_model_module_version": "1.2.0",
            "_model_name": "LayoutModel",
            "_view_count": null,
            "_view_module": "@jupyter-widgets/base",
            "_view_module_version": "1.2.0",
            "_view_name": "LayoutView",
            "align_content": null,
            "align_items": null,
            "align_self": null,
            "border": null,
            "bottom": null,
            "display": null,
            "flex": null,
            "flex_flow": null,
            "grid_area": null,
            "grid_auto_columns": null,
            "grid_auto_flow": null,
            "grid_auto_rows": null,
            "grid_column": null,
            "grid_gap": null,
            "grid_row": null,
            "grid_template_areas": null,
            "grid_template_columns": null,
            "grid_template_rows": null,
            "height": null,
            "justify_content": null,
            "justify_items": null,
            "left": null,
            "margin": null,
            "max_height": null,
            "max_width": null,
            "min_height": null,
            "min_width": null,
            "object_fit": null,
            "object_position": null,
            "order": null,
            "overflow": null,
            "overflow_x": null,
            "overflow_y": null,
            "padding": null,
            "right": null,
            "top": null,
            "visibility": null,
            "width": null
          }
        },
        "61cf485d9561415da7cfb8a03bb83704": {
          "model_module": "@jupyter-widgets/controls",
          "model_name": "ProgressStyleModel",
          "model_module_version": "1.5.0",
          "state": {
            "_model_module": "@jupyter-widgets/controls",
            "_model_module_version": "1.5.0",
            "_model_name": "ProgressStyleModel",
            "_view_count": null,
            "_view_module": "@jupyter-widgets/base",
            "_view_module_version": "1.2.0",
            "_view_name": "StyleView",
            "bar_color": null,
            "description_width": ""
          }
        },
        "2756694a7471442faa5648f43b73ab76": {
          "model_module": "@jupyter-widgets/base",
          "model_name": "LayoutModel",
          "model_module_version": "1.2.0",
          "state": {
            "_model_module": "@jupyter-widgets/base",
            "_model_module_version": "1.2.0",
            "_model_name": "LayoutModel",
            "_view_count": null,
            "_view_module": "@jupyter-widgets/base",
            "_view_module_version": "1.2.0",
            "_view_name": "LayoutView",
            "align_content": null,
            "align_items": null,
            "align_self": null,
            "border": null,
            "bottom": null,
            "display": null,
            "flex": null,
            "flex_flow": null,
            "grid_area": null,
            "grid_auto_columns": null,
            "grid_auto_flow": null,
            "grid_auto_rows": null,
            "grid_column": null,
            "grid_gap": null,
            "grid_row": null,
            "grid_template_areas": null,
            "grid_template_columns": null,
            "grid_template_rows": null,
            "height": null,
            "justify_content": null,
            "justify_items": null,
            "left": null,
            "margin": null,
            "max_height": null,
            "max_width": null,
            "min_height": null,
            "min_width": null,
            "object_fit": null,
            "object_position": null,
            "order": null,
            "overflow": null,
            "overflow_x": null,
            "overflow_y": null,
            "padding": null,
            "right": null,
            "top": null,
            "visibility": null,
            "width": null
          }
        },
        "25e65e91fa424fef86cb2b619ae98e02": {
          "model_module": "@jupyter-widgets/controls",
          "model_name": "DescriptionStyleModel",
          "model_module_version": "1.5.0",
          "state": {
            "_model_module": "@jupyter-widgets/controls",
            "_model_module_version": "1.5.0",
            "_model_name": "DescriptionStyleModel",
            "_view_count": null,
            "_view_module": "@jupyter-widgets/base",
            "_view_module_version": "1.2.0",
            "_view_name": "StyleView",
            "description_width": ""
          }
        },
        "014252da346e4e49b1ccd0bda9e3148c": {
          "model_module": "@jupyter-widgets/controls",
          "model_name": "HBoxModel",
          "model_module_version": "1.5.0",
          "state": {
            "_dom_classes": [],
            "_model_module": "@jupyter-widgets/controls",
            "_model_module_version": "1.5.0",
            "_model_name": "HBoxModel",
            "_view_count": null,
            "_view_module": "@jupyter-widgets/controls",
            "_view_module_version": "1.5.0",
            "_view_name": "HBoxView",
            "box_style": "",
            "children": [
              "IPY_MODEL_ddd96b10c7074b16bbf47dd43d317a50",
              "IPY_MODEL_4809e4e67f2e43bd9e494d495ea0d7b8",
              "IPY_MODEL_10610207f82046c38574815403fca3be"
            ],
            "layout": "IPY_MODEL_b8a056248b2b4623bcb8d6fea189369c"
          }
        },
        "ddd96b10c7074b16bbf47dd43d317a50": {
          "model_module": "@jupyter-widgets/controls",
          "model_name": "HTMLModel",
          "model_module_version": "1.5.0",
          "state": {
            "_dom_classes": [],
            "_model_module": "@jupyter-widgets/controls",
            "_model_module_version": "1.5.0",
            "_model_name": "HTMLModel",
            "_view_count": null,
            "_view_module": "@jupyter-widgets/controls",
            "_view_module_version": "1.5.0",
            "_view_name": "HTMLView",
            "description": "",
            "description_tooltip": null,
            "layout": "IPY_MODEL_9e4025605d6547cba1f94669a3526e0b",
            "placeholder": "​",
            "style": "IPY_MODEL_c668909ab7024c4fb774197a80009057",
            "value": "Downloading model.safetensors: 100%"
          }
        },
        "4809e4e67f2e43bd9e494d495ea0d7b8": {
          "model_module": "@jupyter-widgets/controls",
          "model_name": "FloatProgressModel",
          "model_module_version": "1.5.0",
          "state": {
            "_dom_classes": [],
            "_model_module": "@jupyter-widgets/controls",
            "_model_module_version": "1.5.0",
            "_model_name": "FloatProgressModel",
            "_view_count": null,
            "_view_module": "@jupyter-widgets/controls",
            "_view_module_version": "1.5.0",
            "_view_name": "ProgressView",
            "bar_style": "success",
            "description": "",
            "description_tooltip": null,
            "layout": "IPY_MODEL_28935c59fb5e4f2783eb49dd766c922a",
            "max": 440449768,
            "min": 0,
            "orientation": "horizontal",
            "style": "IPY_MODEL_9097f2d9c95e4db19d3bbd43ca555086",
            "value": 440449768
          }
        },
        "10610207f82046c38574815403fca3be": {
          "model_module": "@jupyter-widgets/controls",
          "model_name": "HTMLModel",
          "model_module_version": "1.5.0",
          "state": {
            "_dom_classes": [],
            "_model_module": "@jupyter-widgets/controls",
            "_model_module_version": "1.5.0",
            "_model_name": "HTMLModel",
            "_view_count": null,
            "_view_module": "@jupyter-widgets/controls",
            "_view_module_version": "1.5.0",
            "_view_name": "HTMLView",
            "description": "",
            "description_tooltip": null,
            "layout": "IPY_MODEL_555d4fb20a2e417a925d0562b33fd04e",
            "placeholder": "​",
            "style": "IPY_MODEL_2157c1efa82a4e60a2dbc2d8096c86c4",
            "value": " 440M/440M [00:01&lt;00:00, 287MB/s]"
          }
        },
        "b8a056248b2b4623bcb8d6fea189369c": {
          "model_module": "@jupyter-widgets/base",
          "model_name": "LayoutModel",
          "model_module_version": "1.2.0",
          "state": {
            "_model_module": "@jupyter-widgets/base",
            "_model_module_version": "1.2.0",
            "_model_name": "LayoutModel",
            "_view_count": null,
            "_view_module": "@jupyter-widgets/base",
            "_view_module_version": "1.2.0",
            "_view_name": "LayoutView",
            "align_content": null,
            "align_items": null,
            "align_self": null,
            "border": null,
            "bottom": null,
            "display": null,
            "flex": null,
            "flex_flow": null,
            "grid_area": null,
            "grid_auto_columns": null,
            "grid_auto_flow": null,
            "grid_auto_rows": null,
            "grid_column": null,
            "grid_gap": null,
            "grid_row": null,
            "grid_template_areas": null,
            "grid_template_columns": null,
            "grid_template_rows": null,
            "height": null,
            "justify_content": null,
            "justify_items": null,
            "left": null,
            "margin": null,
            "max_height": null,
            "max_width": null,
            "min_height": null,
            "min_width": null,
            "object_fit": null,
            "object_position": null,
            "order": null,
            "overflow": null,
            "overflow_x": null,
            "overflow_y": null,
            "padding": null,
            "right": null,
            "top": null,
            "visibility": null,
            "width": null
          }
        },
        "9e4025605d6547cba1f94669a3526e0b": {
          "model_module": "@jupyter-widgets/base",
          "model_name": "LayoutModel",
          "model_module_version": "1.2.0",
          "state": {
            "_model_module": "@jupyter-widgets/base",
            "_model_module_version": "1.2.0",
            "_model_name": "LayoutModel",
            "_view_count": null,
            "_view_module": "@jupyter-widgets/base",
            "_view_module_version": "1.2.0",
            "_view_name": "LayoutView",
            "align_content": null,
            "align_items": null,
            "align_self": null,
            "border": null,
            "bottom": null,
            "display": null,
            "flex": null,
            "flex_flow": null,
            "grid_area": null,
            "grid_auto_columns": null,
            "grid_auto_flow": null,
            "grid_auto_rows": null,
            "grid_column": null,
            "grid_gap": null,
            "grid_row": null,
            "grid_template_areas": null,
            "grid_template_columns": null,
            "grid_template_rows": null,
            "height": null,
            "justify_content": null,
            "justify_items": null,
            "left": null,
            "margin": null,
            "max_height": null,
            "max_width": null,
            "min_height": null,
            "min_width": null,
            "object_fit": null,
            "object_position": null,
            "order": null,
            "overflow": null,
            "overflow_x": null,
            "overflow_y": null,
            "padding": null,
            "right": null,
            "top": null,
            "visibility": null,
            "width": null
          }
        },
        "c668909ab7024c4fb774197a80009057": {
          "model_module": "@jupyter-widgets/controls",
          "model_name": "DescriptionStyleModel",
          "model_module_version": "1.5.0",
          "state": {
            "_model_module": "@jupyter-widgets/controls",
            "_model_module_version": "1.5.0",
            "_model_name": "DescriptionStyleModel",
            "_view_count": null,
            "_view_module": "@jupyter-widgets/base",
            "_view_module_version": "1.2.0",
            "_view_name": "StyleView",
            "description_width": ""
          }
        },
        "28935c59fb5e4f2783eb49dd766c922a": {
          "model_module": "@jupyter-widgets/base",
          "model_name": "LayoutModel",
          "model_module_version": "1.2.0",
          "state": {
            "_model_module": "@jupyter-widgets/base",
            "_model_module_version": "1.2.0",
            "_model_name": "LayoutModel",
            "_view_count": null,
            "_view_module": "@jupyter-widgets/base",
            "_view_module_version": "1.2.0",
            "_view_name": "LayoutView",
            "align_content": null,
            "align_items": null,
            "align_self": null,
            "border": null,
            "bottom": null,
            "display": null,
            "flex": null,
            "flex_flow": null,
            "grid_area": null,
            "grid_auto_columns": null,
            "grid_auto_flow": null,
            "grid_auto_rows": null,
            "grid_column": null,
            "grid_gap": null,
            "grid_row": null,
            "grid_template_areas": null,
            "grid_template_columns": null,
            "grid_template_rows": null,
            "height": null,
            "justify_content": null,
            "justify_items": null,
            "left": null,
            "margin": null,
            "max_height": null,
            "max_width": null,
            "min_height": null,
            "min_width": null,
            "object_fit": null,
            "object_position": null,
            "order": null,
            "overflow": null,
            "overflow_x": null,
            "overflow_y": null,
            "padding": null,
            "right": null,
            "top": null,
            "visibility": null,
            "width": null
          }
        },
        "9097f2d9c95e4db19d3bbd43ca555086": {
          "model_module": "@jupyter-widgets/controls",
          "model_name": "ProgressStyleModel",
          "model_module_version": "1.5.0",
          "state": {
            "_model_module": "@jupyter-widgets/controls",
            "_model_module_version": "1.5.0",
            "_model_name": "ProgressStyleModel",
            "_view_count": null,
            "_view_module": "@jupyter-widgets/base",
            "_view_module_version": "1.2.0",
            "_view_name": "StyleView",
            "bar_color": null,
            "description_width": ""
          }
        },
        "555d4fb20a2e417a925d0562b33fd04e": {
          "model_module": "@jupyter-widgets/base",
          "model_name": "LayoutModel",
          "model_module_version": "1.2.0",
          "state": {
            "_model_module": "@jupyter-widgets/base",
            "_model_module_version": "1.2.0",
            "_model_name": "LayoutModel",
            "_view_count": null,
            "_view_module": "@jupyter-widgets/base",
            "_view_module_version": "1.2.0",
            "_view_name": "LayoutView",
            "align_content": null,
            "align_items": null,
            "align_self": null,
            "border": null,
            "bottom": null,
            "display": null,
            "flex": null,
            "flex_flow": null,
            "grid_area": null,
            "grid_auto_columns": null,
            "grid_auto_flow": null,
            "grid_auto_rows": null,
            "grid_column": null,
            "grid_gap": null,
            "grid_row": null,
            "grid_template_areas": null,
            "grid_template_columns": null,
            "grid_template_rows": null,
            "height": null,
            "justify_content": null,
            "justify_items": null,
            "left": null,
            "margin": null,
            "max_height": null,
            "max_width": null,
            "min_height": null,
            "min_width": null,
            "object_fit": null,
            "object_position": null,
            "order": null,
            "overflow": null,
            "overflow_x": null,
            "overflow_y": null,
            "padding": null,
            "right": null,
            "top": null,
            "visibility": null,
            "width": null
          }
        },
        "2157c1efa82a4e60a2dbc2d8096c86c4": {
          "model_module": "@jupyter-widgets/controls",
          "model_name": "DescriptionStyleModel",
          "model_module_version": "1.5.0",
          "state": {
            "_model_module": "@jupyter-widgets/controls",
            "_model_module_version": "1.5.0",
            "_model_name": "DescriptionStyleModel",
            "_view_count": null,
            "_view_module": "@jupyter-widgets/base",
            "_view_module_version": "1.2.0",
            "_view_name": "StyleView",
            "description_width": ""
          }
        }
      }
    },
    "colab": {
      "provenance": [],
      "machine_shape": "hm",
      "gpuType": "V100"
    },
    "accelerator": "GPU"
  },
  "nbformat": 4,
  "nbformat_minor": 5
}